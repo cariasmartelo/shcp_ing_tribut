{
 "cells": [
  {
   "cell_type": "markdown",
   "metadata": {},
   "source": [
    "# Jupyter notebook con el unico objetivo de descargar datos"
   ]
  },
  {
   "cell_type": "code",
   "execution_count": 1,
   "metadata": {},
   "outputs": [],
   "source": [
    "%load_ext autoreload\n",
    "%autoreload 2"
   ]
  },
  {
   "cell_type": "code",
   "execution_count": 2,
   "metadata": {},
   "outputs": [],
   "source": [
    "import pandas as pd\n",
    "import download"
   ]
  },
  {
   "cell_type": "code",
   "execution_count": 3,
   "metadata": {},
   "outputs": [
    {
     "name": "stdout",
     "output_type": "stream",
     "text": [
      "Downloaded inpc_2018 in ../inputs/downloads/inpc_2018.csv, last value: 2019/07\n",
      "Downloaded pibr_2013 in ../inputs/downloads/pibr_2013.csv, last value: 2019/01\n",
      "Downloaded pibr_2013_sa in ../inputs/downloads/pibr_2013_sa.csv, last value: 2019/01\n",
      "Downloaded igae in ../inputs/downloads/igae.csv, last value: 2019/05\n",
      "Downloaded igae_sa in ../inputs/downloads/igae_sa.csv, last value: 2019/05\n",
      "Downloaded igae_prim in ../inputs/downloads/igae_prim.csv, last value: 2019/05\n",
      "Downloaded igae_secun in ../inputs/downloads/igae_secun.csv, last value: 2019/05\n",
      "Downloaded igae_terc in ../inputs/downloads/igae_terc.csv, last value: 2019/05\n",
      "Downloaded confianza_consumidor in ../inputs/downloads/confianza_consumidor.csv, last value: 2019/07\n",
      "Downloaded indic_mens_consumo in ../inputs/downloads/indic_mens_consumo.csv, last value: 2019/05\n",
      "Downloaded indic_adelant in ../inputs/downloads/indic_adelant.csv, last value: 2019/05\n",
      "Downloaded pea in ../inputs/downloads/pea.csv, last value: 2019/06\n",
      "Downloaded pobl_ocupada in ../inputs/downloads/pobl_ocupada.csv, last value: 2019/06\n",
      "Downloaded asegurados_imss in ../inputs/downloads/asegurados_imss.csv, last value: 2019/06\n",
      "Downloaded imai in ../inputs/downloads/imai.csv, last value: 2019/06\n",
      "Downloaded imai_mineria in ../inputs/downloads/imai_mineria.csv, last value: 2019/06\n",
      "Downloaded imai_egergia_gas_agua_gas in ../inputs/downloads/imai_egergia_gas_agua_gas.csv, last value: 2019/06\n",
      "Downloaded imai_construccion in ../inputs/downloads/imai_construccion.csv, last value: 2019/06\n",
      "Downloaded imai_manufacturas in ../inputs/downloads/imai_manufacturas.csv, last value: 2019/06\n",
      "Downloaded emec_menor_total in ../inputs/downloads/emec_menor_total.csv, last value: 2019/05\n",
      "Downloaded emec_menor_aba_ali_beb_tab in ../inputs/downloads/emec_menor_aba_ali_beb_tab.csv, last value: 2019/05\n",
      "Downloaded emec_menor_aba_ali in ../inputs/downloads/emec_menor_aba_ali.csv, last value: 2019/05\n",
      "Downloaded emec_menor_hie_tab in ../inputs/downloads/emec_menor_hie_tab.csv, last value: 2019/05\n",
      "Downloaded emec_menor_antad in ../inputs/downloads/emec_menor_antad.csv, last value: 2019/05\n",
      "Downloaded emer_menor_text_vest_calz in ../inputs/downloads/emer_menor_text_vest_calz.csv, last value: 2019/05\n",
      "Downloaded emec_menor_pape_espar_otros in ../inputs/downloads/emec_menor_pape_espar_otros.csv, last value: 2019/05\n",
      "Downloaded emec_menor_domesticos in ../inputs/downloads/emec_menor_domesticos.csv, last value: 2019/05\n",
      "Downloaded emec_menor_vehic in ../inputs/downloads/emec_menor_vehic.csv, last value: 2019/05\n",
      "Downloaded importaciones in ../inputs/downloads/importaciones.csv, last value: 2019/06\n",
      "Downloaded exportaciones in ../inputs/downloads/exportaciones.csv, last value: 2019/06\n"
     ]
    }
   ],
   "source": [
    "download.get_files_inegi(\n",
    "    inpc_2018=True, pibr_2013=True, pibr_2013_sa=True,\n",
    "    igae=True, igae_sa=True, igae_prim=True, igae_secun=True,\n",
    "    igae_terc=True, confianza_consumidor=True,\n",
    "    indic_mens_consumo=True, indic_adelant=True, pea=True,\n",
    "    pobl_ocupada=True, asegurados_imss=True,  imai=True,\n",
    "    imai_mineria=True, imai_construccion=True, imai_manufacturas=True,\n",
    "    imai_egergia_gas_agua_gas=True, emec_menor_total=True,\n",
    "    emec_menor_aba_ali_beb_tab=True, emec_menor_aba_ali=True,\n",
    "    emec_menor_hie_tab=True, emec_menor_antad=True,\n",
    "    emer_menor_text_vest_calz=True, emec_menor_pape_espar_otros=True,\n",
    "    emec_menor_domesticos=True, emec_menor_vehic=True, importaciones=True,\n",
    "    exportaciones=True)"
   ]
  },
  {
   "cell_type": "code",
   "execution_count": 4,
   "metadata": {},
   "outputs": [
    {
     "name": "stdout",
     "output_type": "stream",
     "text": [
      "Downloaded ind_prod_ind_us_sa in ../inputs/downloads/ind_prod_ind_us_sa.csv, last value: 2019-06-01 00:00:00\n",
      "Downloaded ind_prod_ind_us in ../inputs/downloads/ind_prod_ind_us.csv, last value: 2019-06-01 00:00:00\n",
      "Downloaded tbill_3meses_mensual in ../inputs/downloads/tbill_3meses_mensual.csv, last value: 2019-07-01 00:00:00\n",
      "Downloaded tbill_3meses_diario in ../inputs/downloads/tbill_3meses_diario.csv, last value: 2019-08-07 00:00:00\n",
      "Downloaded cons_price_index_us in ../inputs/downloads/cons_price_index_us.csv, last value: 2019-06-01 00:00:00\n",
      "Downloaded cons_price_index_us_sa in ../inputs/downloads/cons_price_index_us_sa.csv, last value: 2019-06-01 00:00:00\n",
      "Downloaded pibr_us_2012 in ../inputs/downloads/pibr_us_2012.csv, last value: 2019-04-01 00:00:00\n",
      "Downloaded pibr_us_2012_sa in ../inputs/downloads/pibr_us_2012_sa.csv, last value: 2019-04-01 00:00:00\n",
      "Downloaded trade_weighted_exchange_rate in ../inputs/downloads/trade_weighted_exchange_rate.csv, last value: 2019-07-01 00:00:00\n",
      "Downloaded commodity_price_index in ../inputs/downloads/commodity_price_index.csv, last value: 2019-05-01 00:00:00\n"
     ]
    }
   ],
   "source": [
    "download.get_files_fed(\n",
    "    pibr_us_2012=True, pibr_us_2012_sa=True, ind_prod_ind_us_sa=True,\n",
    "    ind_prod_ind_us=True, tbill_3meses_mensual=True,\n",
    "    tbill_3meses_diario=True, cons_price_index_us=True,\n",
    "    cons_price_index_us_sa=True, trade_weighted_exchange_rate=True,\n",
    "    commodity_price_index=True)"
   ]
  },
  {
   "cell_type": "code",
   "execution_count": 5,
   "metadata": {},
   "outputs": [
    {
     "name": "stdout",
     "output_type": "stream",
     "text": [
      "Downloaded tc_diario in ../inputs/downloads/tc_diario.csv, last value: 2019-08-09 00:00:00\n",
      "Downloaded tc_mensual in ../inputs/downloads/tc_mensual.csv, last value: 2019-07-01 00:00:00\n",
      "Downloaded indice_tc_real in ../inputs/downloads/indice_tc_real.csv, last value: 2019-05-01 00:00:00\n",
      "Downloaded tasa_cetes_28_diario in ../inputs/downloads/tasa_cetes_28_diario.csv, last value: 2019-08-08 00:00:00\n",
      "Downloaded tasa_cetes_91_diario in ../inputs/downloads/tasa_cetes_91_diario.csv, last value: 2019-08-08 00:00:00\n",
      "Downloaded tasa_cetes_28_mensual in ../inputs/downloads/tasa_cetes_28_mensual.csv, last value: 2019-07-01 00:00:00\n",
      "Downloaded tasa_cetes_91_mensual in ../inputs/downloads/tasa_cetes_91_mensual.csv, last value: 2019-07-01 00:00:00\n"
     ]
    }
   ],
   "source": [
    "download.get_files_banxico(\n",
    "    tc_diario=True, tc_mensual=True, indice_tc_real=True,\n",
    "    tasa_cetes_28_diario=True, tasa_cetes_91_diario=True,\n",
    "    tasa_cetes_28_mensual=True, tasa_cetes_91_mensual=True)"
   ]
  },
  {
   "cell_type": "code",
   "execution_count": 8,
   "metadata": {},
   "outputs": [
    {
     "name": "stdout",
     "output_type": "stream",
     "text": [
      "Downloaded INGRESO_GASTO_SHCP_actual in ../inputs/downloads/\n",
      "Saved ingresos_tributarios_netos.csv in \n",
      "Downloaded INGRESO_GASTO_SHCP_hist in ../inputs/downloads/\n"
     ]
    }
   ],
   "source": [
    "# Primedro debe ir fiscal_hist\n",
    "download.get_files_datos_abiertos(fiscal_hist=True, fiscal_current=True, )"
   ]
  }
 ],
 "metadata": {
  "kernelspec": {
   "display_name": "Python 3",
   "language": "python",
   "name": "python3"
  },
  "language_info": {
   "codemirror_mode": {
    "name": "ipython",
    "version": 3
   },
   "file_extension": ".py",
   "mimetype": "text/x-python",
   "name": "python",
   "nbconvert_exporter": "python",
   "pygments_lexer": "ipython3",
   "version": "3.6.7"
  }
 },
 "nbformat": 4,
 "nbformat_minor": 2
}
