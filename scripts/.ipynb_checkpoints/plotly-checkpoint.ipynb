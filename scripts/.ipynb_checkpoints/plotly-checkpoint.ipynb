{
 "cells": [
  {
   "cell_type": "code",
   "execution_count": 1,
   "metadata": {},
   "outputs": [],
   "source": [
    "import plotly as py\n",
    "import plotly.graph_objs as go\n",
    "import ipywidgets as widgets\n",
    "import pandas as pd\n",
    "import download\n",
    "import descriptive"
   ]
  },
  {
   "cell_type": "code",
   "execution_count": 2,
   "metadata": {},
   "outputs": [
    {
     "data": {
      "text/html": [
       "        <script type=\"text/javascript\">\n",
       "        window.PlotlyConfig = {MathJaxConfig: 'local'};\n",
       "        if (window.MathJax) {MathJax.Hub.Config({SVG: {font: \"STIX-Web\"}});}\n",
       "        if (typeof require !== 'undefined') {\n",
       "        require.undef(\"plotly\");\n",
       "        requirejs.config({\n",
       "            paths: {\n",
       "                'plotly': ['https://cdn.plot.ly/plotly-latest.min']\n",
       "            }\n",
       "        });\n",
       "        require(['plotly'], function(Plotly) {\n",
       "            window._Plotly = Plotly;\n",
       "        });\n",
       "        }\n",
       "        </script>\n",
       "        "
      ]
     },
     "metadata": {},
     "output_type": "display_data"
    }
   ],
   "source": [
    "py.offline.init_notebook_mode(connected=True)"
   ]
  },
  {
   "cell_type": "code",
   "execution_count": 3,
   "metadata": {},
   "outputs": [],
   "source": [
    "ingresos_netos = download.load_ingresos_fiscales_netos()"
   ]
  },
  {
   "cell_type": "code",
   "execution_count": 4,
   "metadata": {},
   "outputs": [],
   "source": [
    "cols_ingresos_gob_federal = ['ingresos_gobierno_federal_neto_(mdp)_r',\n",
    "                             'ingresos_tributarios_sin_gasol_neto_(mdp)_r',\\\n",
    "                             'ingresos_no_tributarios_neto_(mdp)_r',\\\n",
    "                             'ieps_gasolina_neto_(mdp)_r']\n",
    "cols_ingresos_tributarios_principales = \\\n",
    "                            ['ingresos_tributarios_sin_gasol_neto_(mdp)_r',\n",
    "                             'isr_neto_(mdp)_r', 'iva_neto_(mdp)_r', 'ieps_sin_gas_neto_(mdp)_r',\\\n",
    "                             'ieps_gasolina_neto_(mdp)_r', 'importaciones_neto_(mdp)_r',\n",
    "                             'otros_ingresos_tributarios_neto_(mdp)_r']\n",
    "cols_ingresos_tributarios_relevantes = \\\n",
    "                            ['ingresos_tributarios_sin_gasol_neto_(mdp)_r',\n",
    "                             'isr_neto_(mdp)_r', 'iva_neto_(mdp)_r', 'ieps_sin_gas_neto_(mdp)_r',\n",
    "                             'importaciones_neto_(mdp)_r']\n",
    "cols_ingresos_tributarios_totaless = \\\n",
    "                            ['ingresos_tributarios_sin_gasol_neto_(mdp)_r',\n",
    "                             'isr_neto_(mdp)_r', 'iva_neto_(mdp)_r', 'ieps_sin_gas_neto_(mdp)_r',\\\n",
    "                             'ieps_gasolina_neto_(mdp)_r', 'importaciones_neto_(mdp)_r',\\\n",
    "                             'impuesto_extraccion_hidrocarburos_neto_(mdp)_r', 'isan_neto_(mdp)_r',\\\n",
    "                             'accesorios_contribuciones_neto_(mdp)_r', 'otros_ingresos_tributarios_neto_(mdp)_r']"
   ]
  },
  {
   "cell_type": "code",
   "execution_count": 5,
   "metadata": {},
   "outputs": [],
   "source": [
    "graph_names = {'ingresos_gobierno_federal_neto_(mdp)_r': 'Ingresos Gobierno Federal',\n",
    "             'ingresos_tributarios_sin_gasol_neto_(mdp)_r': 'Ingresos tributarios sin IEPS gasolina',\n",
    "             'ingresos_no_tributarios_neto_(mdp)_r': 'Ingresos no tributarios',\n",
    "             'ieps_gasolina_neto_(mdp)_r': 'IEPS a las gasolinas',\n",
    "             'isr_neto_(mdp)_r': 'ISR',\n",
    "             'iva_neto_(mdp)_r': 'IVA',\n",
    "             'ieps_sin_gas_neto_(mdp)_r': 'IEPS sin gasolinas',\n",
    "             'importaciones_neto_(mdp)_r': 'Impuesto a las importaciones',\n",
    "             'otros_ingresos_tributarios_neto_(mdp)_r': 'Otros ingresos tributarios'}"
   ]
  },
  {
   "cell_type": "code",
   "execution_count": 10,
   "metadata": {},
   "outputs": [],
   "source": [
    "ingresos_reales = list(graph_names.keys())"
   ]
  },
  {
   "cell_type": "code",
   "execution_count": 12,
   "metadata": {},
   "outputs": [
    {
     "data": {
      "application/vnd.jupyter.widget-view+json": {
       "model_id": "a1cc66af1e884a86a5f33895bc9e6aed",
       "version_major": 2,
       "version_minor": 0
      },
      "text/plain": [
       "interactive(children=(SelectMultiple(description='Columns to plot', index=(0,), options=('ingresos_gobierno_fe…"
      ]
     },
     "metadata": {},
     "output_type": "display_data"
    }
   ],
   "source": [
    "def plot_plotly(columns, transformation=None, lag=0):\n",
    "    '''\n",
    "    Function to plot using Plotly\n",
    "    '''\n",
    "    if not transformation:\n",
    "        y = ingresos_netos.copy()\n",
    "    else:\n",
    "        y = ingresos_netos.apply(lambda x: descriptive.transformation(x,  transformation, lag))\n",
    "    \n",
    "    if not transformation:\n",
    "        title = 'Ingresos fiscales netos (MDP de 2019)'\n",
    "    else:\n",
    "        title = 'Ingresos fiscales netos (MDP de 2019, {})'.format(transformation)\n",
    "\n",
    "    layout = go.Layout(\n",
    "        title= title,\n",
    "    )\n",
    "    traces = [go.Scatter(\n",
    "        x = ingresos_netos.index,\n",
    "        y = y[col],\n",
    "        name = graph_names[col],\n",
    "        ) for col in columns]\n",
    "\n",
    "    fig = go.Figure(data = traces, layout=layout)\n",
    "    py.offline.iplot(fig)\n",
    "\n",
    "columnitass = widgets.SelectMultiple(\n",
    "                    options = ingresos_reales,\n",
    "                    value=['ingresos_gobierno_federal_neto_(mdp)_r'],\n",
    "                    description='Columns to plot',\n",
    "                    disabled=False)\n",
    "transformation = widgets.Dropdown(\n",
    "                    options=[None, 'log', 'diff', 'log_diff', 'moving_avg'],\n",
    "                    value=None,\n",
    "                    description='Transformation',\n",
    "                    disabled=False,\n",
    "                )\n",
    "lag = widgets.IntSlider(min=0, max=24, value=1, description='Lag')\n",
    "widgets.interactive(plot_plotly, columns=columnitass, transformation=transformation, lag=lag)"
   ]
  },
  {
   "cell_type": "code",
   "execution_count": 8,
   "metadata": {},
   "outputs": [
    {
     "ename": "NameError",
     "evalue": "name 'pyo' is not defined",
     "output_type": "error",
     "traceback": [
      "\u001b[0;31m---------------------------------------------------------------------------\u001b[0m",
      "\u001b[0;31mNameError\u001b[0m                                 Traceback (most recent call last)",
      "\u001b[0;32m<ipython-input-8-edda87d49b15>\u001b[0m in \u001b[0;36m<module>\u001b[0;34m\u001b[0m\n\u001b[0;32m----> 1\u001b[0;31m pyo.plot([{\n\u001b[0m\u001b[1;32m      2\u001b[0m     \u001b[0;34m'x'\u001b[0m\u001b[0;34m:\u001b[0m \u001b[0mingresos_netos\u001b[0m\u001b[0;34m.\u001b[0m\u001b[0mindex\u001b[0m\u001b[0;34m,\u001b[0m\u001b[0;34m\u001b[0m\u001b[0;34m\u001b[0m\u001b[0m\n\u001b[1;32m      3\u001b[0m     \u001b[0;34m'y'\u001b[0m\u001b[0;34m:\u001b[0m \u001b[0mingresos_netos\u001b[0m\u001b[0;34m[\u001b[0m\u001b[0mcol\u001b[0m\u001b[0;34m]\u001b[0m\u001b[0;34m,\u001b[0m\u001b[0;34m\u001b[0m\u001b[0;34m\u001b[0m\u001b[0m\n\u001b[1;32m      4\u001b[0m     \u001b[0;34m'name'\u001b[0m\u001b[0;34m:\u001b[0m \u001b[0mcol\u001b[0m\u001b[0;34m\u001b[0m\u001b[0;34m\u001b[0m\u001b[0m\n\u001b[1;32m      5\u001b[0m } for col in ['ingresos_tributarios_sin_gasol_neto_(mdp)_r', 'isr_neto_(mdp)_r']])\n",
      "\u001b[0;31mNameError\u001b[0m: name 'pyo' is not defined"
     ]
    }
   ],
   "source": [
    "pyo.plot([{\n",
    "    'x': ingresos_netos.index,\n",
    "    'y': ingresos_netos[col],\n",
    "    'name': col\n",
    "} for col in ['ingresos_tributarios_sin_gasol_neto_(mdp)_r', 'isr_neto_(mdp)_r']])"
   ]
  },
  {
   "cell_type": "code",
   "execution_count": null,
   "metadata": {},
   "outputs": [],
   "source": []
  }
 ],
 "metadata": {
  "kernelspec": {
   "display_name": "Python 3",
   "language": "python",
   "name": "python3"
  },
  "language_info": {
   "codemirror_mode": {
    "name": "ipython",
    "version": 3
   },
   "file_extension": ".py",
   "mimetype": "text/x-python",
   "name": "python",
   "nbconvert_exporter": "python",
   "pygments_lexer": "ipython3",
   "version": "3.6.7"
  }
 },
 "nbformat": 4,
 "nbformat_minor": 2
}
