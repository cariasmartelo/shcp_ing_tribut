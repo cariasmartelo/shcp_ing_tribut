{
 "cells": [
  {
   "cell_type": "markdown",
   "metadata": {},
   "source": [
    "\n",
    "# Pipeline Predict\n",
    "- Forecast with models:\n",
    "    - ARIMA\n",
    "    - SARIMA\n",
    "    - FB Prophet\n",
    "    - Elasticidades\n",
    "    - Decision Trees\n",
    "    - Random Forests\n",
    "    - Gradient Boosting"
   ]
  },
  {
   "cell_type": "code",
   "execution_count": null,
   "metadata": {},
   "outputs": [],
   "source": [
    "%load_ext autoreload\n",
    "%autoreload 2"
   ]
  },
  {
   "cell_type": "code",
   "execution_count": null,
   "metadata": {},
   "outputs": [],
   "source": [
    "import pandas as pd\n",
    "import numpy as np\n",
    "import matplotlib.pyplot as plt\n",
    "import datetime\n",
    "from pylab import rcParams\n",
    "from statsmodels.tsa.stattools import arma_order_select_ic\n",
    "import statsmodels.api as sm\n",
    "# from statsmodels.tsa.stattools import acf, pacf, adfuller, arma_order_select_ic\n",
    "from sklearn.model_selection import ParameterGrid\n",
    "import itertools\n",
    "import warnings\n",
    "import seaborn as sns\n",
    "\n",
    "\n",
    "\n",
    "#Own packages\n",
    "import download\n",
    "import descriptive\n",
    "import models\n",
    "\n",
    "pd.set_option('display.max_columns', 100)\n",
    "pd.set_option('display.max_rows', 100)\n",
    "warnings.filterwarnings(\"ignore\")"
   ]
  },
  {
   "cell_type": "markdown",
   "metadata": {},
   "source": [
    "# Params to modify"
   ]
  },
  {
   "cell_type": "code",
   "execution_count": null,
   "metadata": {},
   "outputs": [],
   "source": [
    "p = range(2, 7)\n",
    "q = range(2, 7)\n",
    "P = range(2, 6)\n",
    "Q = range(2,6)\n",
    "sea_p = range(0, 2)\n",
    "sea_q = range(0, 2)\n",
    "sea_s = [12]\n",
    "params = {\n",
    "    'pred_start': '2015-07-01',\n",
    "    'pred_end': '2018-07-01',\n",
    "    'pred_period': '17MS',\n",
    "    'transformation': 'log_diff',\n",
    "    'models':{\n",
    "        'ARIMA': {'order': [(x[0], 0, x[1]) for x in list(itertools.product(p, q))]},\n",
    "        'SARIMA': {'order': [(x[0], 0, x[1]) for x in list(itertools.product(P, Q))],\n",
    "                   'seasonal_order': [(x[0], 0, x[1], x[2]) for x in list(itertools.product(sea_p, sea_q, sea_s))],\n",
    "                   'enforce_stationarity': [False],\n",
    "                   'enforce_invertibility': [False]},\n",
    "        'ELASTICITY': {'lag_window': [3, 6, 12], 'elasticity': [None, 1.3, 2]},\n",
    "        'PROPHET': {'seasonality_mode':['additive', 'multiplicative'], \n",
    "                    'weekly_seasonality': [False], \n",
    "                    'daily_seasonality': [False]},\n",
    "        'DT': {'criterion': ['mse', 'friedman_mse', 'mae'], \n",
    "               'max_depth': [1,5,10,20,50,100], \n",
    "               'max_features': [None,'sqrt','log2'],\n",
    "               'min_samples_split': [2,5,10]},\n",
    "        'RF': {'n_estimators': [1, 10, 100, 1000],\n",
    "               'criterion': ['mse', 'mae'],\n",
    "               'max_depth': [5,50], \n",
    "               'max_features': ['sqrt','log2'],\n",
    "               'min_samples_split': [2,10], \n",
    "               'n_jobs':[-1],\n",
    "               'random_state': [1234]},\n",
    "        'GB': {'n_estimators': [1, 50], \n",
    "               'learning_rate' : [0.1, 0.5],\n",
    "               'subsample' : [0.1, 0.5, 1.0], \n",
    "               'max_depth': [1, 5, 10]},\n",
    "    }\n",
    "}"
   ]
  },
  {
   "cell_type": "markdown",
   "metadata": {},
   "source": [
    "## Making model params iterating"
   ]
  },
  {
   "cell_type": "code",
   "execution_count": null,
   "metadata": {},
   "outputs": [],
   "source": [
    "all_models_params = {}\n",
    "for model, specifications in params['models'].items():\n",
    "    all_models_params[model] = list(ParameterGrid(specifications))   "
   ]
  },
  {
   "cell_type": "markdown",
   "metadata": {},
   "source": [
    "# Loading data"
   ]
  },
  {
   "cell_type": "code",
   "execution_count": null,
   "metadata": {},
   "outputs": [],
   "source": [
    "ingresos_netos = download.load_ingresos_fiscales_netos()\n",
    "pib_r = download.load_pib_r(monthly=True)\n",
    "pib_r_2019 = pib_r['pibr_2019']"
   ]
  },
  {
   "cell_type": "code",
   "execution_count": null,
   "metadata": {},
   "outputs": [],
   "source": [
    "outcome_ts = ingresos_netos['ingresos_tributarios_sin_gasol_neto_(mdp)_r']\n",
    "outcome_ts_tr = descriptive.transformation(outcome_ts, 'log_diff')\n",
    "outcome_ts_tr = outcome_ts_tr[outcome_ts_tr.notna()]"
   ]
  },
  {
   "cell_type": "markdown",
   "metadata": {},
   "source": [
    "# ARIMA y SARIMA"
   ]
  },
  {
   "cell_type": "code",
   "execution_count": null,
   "metadata": {
    "scrolled": true
   },
   "outputs": [],
   "source": [
    "descriptive.plot_acf_pacf(outcome_ts_tr, 20, 'log_diff_ingresos_tributarios_sin_gasol_neto_(mdp)_r')"
   ]
  },
  {
   "cell_type": "markdown",
   "metadata": {},
   "source": [
    "### ARIMA Getting best P and Q"
   ]
  },
  {
   "cell_type": "code",
   "execution_count": null,
   "metadata": {},
   "outputs": [],
   "source": [
    "ingresos_a_predecir = ['ingresos_tributarios_sin_gasol_neto_(mdp)_r',\\\n",
    "                       'isr_neto_(mdp)_r',\\\n",
    "                       'iva_neto_(mdp)_r',\\\n",
    "                       'ieps_sin_gas_neto_(mdp)_r',\\\n",
    "                       'importaciones_neto_(mdp)_r']"
   ]
  },
  {
   "cell_type": "code",
   "execution_count": null,
   "metadata": {},
   "outputs": [],
   "source": [
    "results = {'arima': {}, 'sarima': {}, 'elasticity': {}, 'prophet': {}, 'DT': {}, 'GB': {}, 'RF': {}}\n",
    "for var in ingresos_a_predecir:\n",
    "    params['outcome_col'] = var\n",
    "    params['outcome_col_transformed'] = params['transformation'] + '_' + var\n",
    "    outcome_var = ingresos_netos[var]\n",
    "    outcome_var_tr = descriptive.transformation(outcome_var, params['transformation'])\n",
    "    results['arima'] = models.run_model_joint(model_name='ARIMA', all_models_params=all_models_params,\n",
    "                                           outcome_var=outcome_ts, global_params=params, plot_extra=True,\n",
    "                                           outcome_var_tr=outcome_ts_tr)\n",
    "    results['sarima'] = models.run_model_joint(model_name='SARIMA', all_models_params=all_models_params,\n",
    "                                           outcome_var=outcome_ts, global_params=params, plot_extra=True,\n",
    "                                           outcome_var_tr=outcome_ts_tr)\n",
    "    results['elasticity'] = models.run_model_joint(model_name='ELASTICITY', all_models_params=all_models_params,\n",
    "                                                outcome_var=outcome_ts, global_params=params, plot_extra=True,\n",
    "                                                covars=pib_r_2019)\n",
    "    results['prophet'] = models.run_model_joint(model_name='PROPHET', all_models_params=all_models_params,\n",
    "                                                    outcome_var=outcome_ts, global_params=params, plot_extra=True,\n",
    "                                                    outcome_var_tr=outcome_ts_tr)\n",
    "    results['DT'] = models.run_ml(model_name='DT', all_models_params=all_models_params,\n",
    "                                                    outcome_var=outcome_ts, global_params=params, plot_extra=True,\n",
    "                                                    lags=12, outcome_var_tr=outcome_ts_tr)\n",
    "    results['GB'] = models.run_ml(model_name='GB', all_models_params=all_models_params,\n",
    "                                                    outcome_var=outcome_ts, global_params=params, plot_extra=True,\n",
    "                                                    lags=12, outcome_var_tr=outcome_ts_tr)\n",
    "    results['RF'] = models.run_ml(model_name='RF', all_models_params=all_models_params,\n",
    "                                                    outcome_var=outcome_ts, global_params=params, plot_extra=True,\n",
    "                                                    lags=12, outcome_var_tr=outcome_ts_tr)\n"
   ]
  },
  {
   "cell_type": "markdown",
   "metadata": {},
   "source": [
    "## SARIMA Getting best P, Q and S"
   ]
  },
  {
   "cell_type": "code",
   "execution_count": null,
   "metadata": {},
   "outputs": [],
   "source": [
    "sarima_aic = {'param':[], 'aic':[]}\n",
    "for param in all_models_params['SARIMA']:\n",
    "    mod = sm.tsa.statespace.SARIMAX(outcome_ts_tr, **param)\n",
    "    results = mod.fit(maxiter=200)\n",
    "    sarima_aic['param'].append(param)\n",
    "    sarima_aic['aic'].append(results.aic)\n",
    "sarima_aic = pd.DataFrame(sarima_aic)\n",
    "sarima_aic = sarima_aic.sort_values('aic')\n",
    "with pd.option_context(\"display.max_rows\", 999):\n",
    "    print(sarima_aic.head().values)"
   ]
  },
  {
   "cell_type": "code",
   "execution_count": null,
   "metadata": {},
   "outputs": [],
   "source": [
    "results_sarima = models.run_model_joint(model_name='SARIMA', all_models_params=all_models_params,\n",
    "                                       outcome_var=outcome_ts, global_params=params, plot_extra=True,\n",
    "                                       outcome_var_tr=outcome_ts_tr)"
   ]
  },
  {
   "cell_type": "markdown",
   "metadata": {},
   "source": [
    "# Mechanical\n",
    "Using PIB and elasticities\n",
    "\n",
    "Hay diferencias entre datos de do file y estos datos. INPC es diferente. Recaudación y PIB son diferentes en los últimos valores\n",
    "\n",
    "Las elasticidades se obtuvieron del promedio de elasticidades del último trimestre. (1.1 ISR y 1.3 IVA)"
   ]
  },
  {
   "cell_type": "code",
   "execution_count": null,
   "metadata": {},
   "outputs": [],
   "source": [
    "outcome_ts_perc_change = outcome_ts.pct_change(12) * 100\n",
    "pib_r_perc_change = pib_r_2019.loc[pib_r_2019.notna()].pct_change(12) * 100\n",
    "outcome_ts_elast = outcome_ts_perc_change / pib_r_perc_change\n",
    "outcome_ts_elast = outcome_ts_elast.rename('elasticity_{}'.format(params['outcome_col']))"
   ]
  },
  {
   "cell_type": "code",
   "execution_count": null,
   "metadata": {},
   "outputs": [],
   "source": [
    "plot_monthly_elast = outcome_ts_perc_change.to_frame()\n",
    "plot_monthly_elast = plot_monthly_elast.merge(pib_r_perc_change, left_index=True, right_index=True)\n",
    "descriptive.plot_series(plot_monthly_elast, title='Crecimiento anual PIB e IVA neto',\n",
    "                        subtitle='(%)', legend=['Ingresos tributarios sin IVA', 'PIB'])"
   ]
  },
  {
   "cell_type": "code",
   "execution_count": null,
   "metadata": {},
   "outputs": [],
   "source": [
    "outcome_ts_elast.describe()"
   ]
  },
  {
   "cell_type": "code",
   "execution_count": null,
   "metadata": {},
   "outputs": [],
   "source": [
    "outcome_ts_elast_rolling_12 = outcome_ts_elast.rolling(12).mean()\n",
    "outcome_ts_elast_rolling_24 = outcome_ts_elast.rolling(24).mean()\n",
    "outcome_ts_elast_rolling = pd.concat([outcome_ts_elast_rolling_12, outcome_ts_elast_rolling_24], axis = 1)"
   ]
  },
  {
   "cell_type": "code",
   "execution_count": null,
   "metadata": {},
   "outputs": [],
   "source": [
    "descriptive.plot_series(outcome_ts_elast_rolling, legend=['12 meses', '24 meses'],\n",
    "                        title='Elasticidad IVA PIB Media Móvil')"
   ]
  },
  {
   "cell_type": "markdown",
   "metadata": {},
   "source": [
    "# Elasticidad Anual"
   ]
  },
  {
   "cell_type": "code",
   "execution_count": null,
   "metadata": {},
   "outputs": [],
   "source": [
    "outcome_ts_yearly = outcome_ts.resample('YS').sum()\n",
    "pib_r_yearly = pib_r_2019.resample('YS').mean()\n",
    "outcome_ts_yearly = outcome_ts_yearly.loc[outcome_ts_yearly.index < '2019-01-01']\n",
    "pib_r_yearly = pib_r_yearly.loc[pib_r_yearly.index < '2019-01-01']\n",
    "\n",
    "outcome_ts_yearly_perc_change = outcome_ts_yearly.pct_change(1) * 100\n",
    "pib_r_yearly_perc_change = pib_r_yearly.pct_change(1) * 100\n",
    "plot_yearly_elast = outcome_ts_yearly_perc_change.to_frame()\n",
    "plot_yearly_elast = plot_yearly_elast.merge(pib_r_yearly_perc_change, left_index=True, right_index=True)\n",
    "descriptive.plot_series(plot_yearly_elast, title='Crecimiento anual PIB e IVA neto',\n",
    "                        subtitle='(%)', legend=['IVA', 'PIB'])"
   ]
  },
  {
   "cell_type": "code",
   "execution_count": null,
   "metadata": {},
   "outputs": [],
   "source": [
    "outcome_ts_elast_yearly = outcome_ts_yearly_perc_change / pib_r_yearly_perc_change\n",
    "outcome_ts_elast_yearly = outcome_ts_elast_yearly.rename('elasticity_{}'.format(params['outcome_col']))\n",
    "descriptive.plot_series(outcome_ts_elast_yearly, title='Elasticidad IVA Neto (MDP 2019) - PIB (MDP 2019)',\n",
    "                        subtitle='Valores anuales', legend=False, \n",
    "                        hline=0, footnote='Calculado como crecimiento porcentual del IVA sobre crecimiento porcentual del PIB ')"
   ]
  },
  {
   "cell_type": "code",
   "execution_count": null,
   "metadata": {},
   "outputs": [],
   "source": [
    "outcome_ts_elast_yearly.describe()"
   ]
  },
  {
   "cell_type": "code",
   "execution_count": null,
   "metadata": {
    "scrolled": true
   },
   "outputs": [],
   "source": [
    "results_elasticity = models.run_model_joint(model_name='ELASTICITY', all_models_params=all_models_params,\n",
    "                                            outcome_var=outcome_ts, global_params=params, plot_extra=True,\n",
    "                                            covars=pib_r_2019)"
   ]
  },
  {
   "cell_type": "markdown",
   "metadata": {},
   "source": [
    "# Facebook Prophet"
   ]
  },
  {
   "cell_type": "code",
   "execution_count": null,
   "metadata": {},
   "outputs": [],
   "source": [
    "results_prophet = models.run_model_joint(model_name='PROPHET', all_models_params=all_models_params,\n",
    "                                                outcome_var=outcome_ts, global_params=params, plot_extra=True,\n",
    "                                                outcome_var_tr=outcome_ts_tr)"
   ]
  },
  {
   "cell_type": "markdown",
   "metadata": {},
   "source": [
    "# Machine Learning"
   ]
  },
  {
   "cell_type": "markdown",
   "metadata": {},
   "source": [
    "## Decision Trees"
   ]
  },
  {
   "cell_type": "code",
   "execution_count": null,
   "metadata": {},
   "outputs": [],
   "source": [
    "results_dt = models.run_ml(model_name='DT', all_models_params=all_models_params,\n",
    "                                                outcome_var=outcome_ts, global_params=params, plot_extra=True,\n",
    "                                                lags=12, outcome_var_tr=outcome_ts_tr)"
   ]
  },
  {
   "cell_type": "markdown",
   "metadata": {},
   "source": [
    "## Random Forests"
   ]
  },
  {
   "cell_type": "code",
   "execution_count": null,
   "metadata": {},
   "outputs": [],
   "source": [
    "results_rf = models.run_ml(model_name='RF', all_models_params=all_models_params,\n",
    "                                                outcome_var=outcome_ts, global_params=params, plot_extra=True,\n",
    "                                                lags=12, outcome_var_tr=outcome_ts_tr)"
   ]
  },
  {
   "cell_type": "markdown",
   "metadata": {},
   "source": [
    "## Gradient Boosting"
   ]
  },
  {
   "cell_type": "code",
   "execution_count": null,
   "metadata": {},
   "outputs": [],
   "source": [
    "results_gb = models.run_ml(model_name='GB', all_models_params=all_models_params,\n",
    "                                                outcome_var=outcome_ts, global_params=params, plot_extra=True,\n",
    "                                                lags=12, outcome_var_tr=outcome_ts_tr)"
   ]
  },
  {
   "cell_type": "markdown",
   "metadata": {},
   "source": [
    "# Results Analysis"
   ]
  },
  {
   "cell_type": "code",
   "execution_count": null,
   "metadata": {},
   "outputs": [],
   "source": []
  },
  {
   "cell_type": "code",
   "execution_count": null,
   "metadata": {},
   "outputs": [],
   "source": [
    "results_arima_df = pd.DataFrame(results_arima)\n",
    "results_sarima_df = pd.DataFrame(results_sarima)\n",
    "results_elasticity_df = pd.DataFrame(results_elasticity)\n",
    "results_prophet_df = pd.DataFrame(results_prophet)\n",
    "results_dt_df = pd.DataFrame(results_dt)\n",
    "results_gb_df = pd.DataFrame(results_gb)\n",
    "results_rf_df = pd.DataFrame(results_rf)\n",
    "results_list = [results_arima_df, results_sarima_df, results_elasticity_df, results_prophet_df,\\\n",
    "                results_dt_df, results_rf_df, results_gb_df]\n",
    "results = pd.concat(results_list, ignore_index=True)\n",
    "col_order = ['model', 'param', 'transformation', 'split_date', 'pred_period',\\\n",
    "             'dynamic', 'rmse', 'mae', 'mape', 'forecast_biass']\n",
    "results = results[col_order]\n",
    "results['param'] = results['param'].map(lambda x: str(x))\n",
    "results.to_csv('../results/prediction_results_nocovars.csv', index=False)"
   ]
  },
  {
   "cell_type": "code",
   "execution_count": null,
   "metadata": {},
   "outputs": [],
   "source": []
  },
  {
   "cell_type": "code",
   "execution_count": null,
   "metadata": {},
   "outputs": [],
   "source": []
  },
  {
   "cell_type": "code",
   "execution_count": null,
   "metadata": {},
   "outputs": [],
   "source": [
    "from sklearn.tree import DecisionTreeRegressor\n",
    "lag_df = models.create_lagged_features(outcome_ts_tr, 12)"
   ]
  },
  {
   "cell_type": "code",
   "execution_count": null,
   "metadata": {},
   "outputs": [],
   "source": [
    "y = outcome_ts_tr.loc[lag_df.index]"
   ]
  },
  {
   "cell_type": "code",
   "execution_count": null,
   "metadata": {},
   "outputs": [],
   "source": [
    "y.shape"
   ]
  },
  {
   "cell_type": "code",
   "execution_count": null,
   "metadata": {},
   "outputs": [],
   "source": [
    "lag_df.shape"
   ]
  },
  {
   "cell_type": "code",
   "execution_count": null,
   "metadata": {},
   "outputs": [],
   "source": [
    "reg = DecisionTreeRegressor(**{'criterion': 'mae', 'max_depth': 5, 'max_features': 'log2', 'min_samples_split': 5})\n",
    "reg.fit(lag_df, y)"
   ]
  },
  {
   "cell_type": "code",
   "execution_count": null,
   "metadata": {},
   "outputs": [],
   "source": [
    "from sklearn import tree\n",
    "tree.export_graphviz(reg, out_file='tree.dot')"
   ]
  },
  {
   "cell_type": "code",
   "execution_count": null,
   "metadata": {},
   "outputs": [],
   "source": [
    "# from sklearn.externals.six import StringIO  \n",
    "# import pydot \n",
    "# dot_data = StringIO() \n",
    "# tree.export_graphviz(reg, out_file=dot_data) \n",
    "# graph = pydot.graph_from_dot_data(dot_data.getvalue()) \n",
    "# graph[0].write_pdf(\"tree.pdf\") "
   ]
  },
  {
   "cell_type": "code",
   "execution_count": null,
   "metadata": {},
   "outputs": [],
   "source": [
    "from sklearn import tree\n",
    "import graphviz \n",
    "dot_data = tree.export_graphviz(reg, out_file=None, \n",
    "                     feature_names=lag_df.columns,  \n",
    "                     filled=True, rounded=True,  \n",
    "                     special_characters=True)\n",
    "graph = graphviz.Source(dot_data) \n",
    "graph.render(\"tree\")"
   ]
  },
  {
   "cell_type": "code",
   "execution_count": null,
   "metadata": {},
   "outputs": [],
   "source": [
    "f_impo = reg.feature_importances_"
   ]
  },
  {
   "cell_type": "code",
   "execution_count": null,
   "metadata": {},
   "outputs": [],
   "source": [
    "f_impo = pd.Series(f_impo)"
   ]
  },
  {
   "cell_type": "code",
   "execution_count": null,
   "metadata": {},
   "outputs": [],
   "source": [
    "f_impo.index = lag_df.columns"
   ]
  },
  {
   "cell_type": "code",
   "execution_count": null,
   "metadata": {},
   "outputs": [],
   "source": [
    "f_impo.plot.bar()"
   ]
  },
  {
   "cell_type": "code",
   "execution_count": null,
   "metadata": {},
   "outputs": [],
   "source": []
  }
 ],
 "metadata": {
  "kernelspec": {
   "display_name": "Python 3",
   "language": "python",
   "name": "python3"
  },
  "language_info": {
   "codemirror_mode": {
    "name": "ipython",
    "version": 3
   },
   "file_extension": ".py",
   "mimetype": "text/x-python",
   "name": "python",
   "nbconvert_exporter": "python",
   "pygments_lexer": "ipython3",
   "version": "3.6.7"
  }
 },
 "nbformat": 4,
 "nbformat_minor": 2
}
