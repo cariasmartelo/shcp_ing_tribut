{
 "cells": [
  {
   "cell_type": "markdown",
   "metadata": {},
   "source": [
    "# Lab on Pandas\n",
    "## material was originally design for CMSC 12100/CAPP 30121."
   ]
  },
  {
   "cell_type": "code",
   "execution_count": 131,
   "metadata": {},
   "outputs": [],
   "source": [
    "import pandas as pd\n",
    "import numpy as np"
   ]
  },
  {
   "cell_type": "markdown",
   "metadata": {},
   "source": [
    "### Reading the data\n",
    "We will be using a sample dataset from the Current Population Survey for this assignment. The file morg_d07_strings.csv contains a modified version of the 2007 MORG data, which we downloaded from the Census Bureau’s website.\n",
    "\n",
    "The file is in comma-separated value (CSV) format. It can be understood to represent a table with multiple rows and columns (in fact, the CSV format is supported by most spreadsheet programs, and you can try opening the file in Excel, Libreoffice Calc, etc.). The first line of the file is the header of the file. It contains the names of the columns, separated by commas. After the header, each line in the file represents a row in the table, with each value in the row (corresponding to the columns specified in the header) separated by a comma. A common way to refer to a value in a row is as a field. So, if a CSV file has an age column, in an individual row we would refer to the age field (instead of column, which tends to refer to an entire column of values).\n",
    "\n",
    "Each row in morg_d07_strings.csv corresponds to the survey data obtained from a unique individual. We consider the following variables for each individual in this assignment (although there are a lot more variables available in the MORG datasets):\n",
    "\n",
    "- h_id: a string that serves as a unique identifier, which we created by concatenating several variables in the original MORG datasets.\n",
    "- age: an integer value specifying the age of the individual.\n",
    "- gender: the gender (or sex) recorded for the individual.\n",
    "- race: the race recorded for the individual.\n",
    "- ethnicity: the ethnicity recorded for the individual.\n",
    "- employment_status: the employment status record for the individual.\n",
    "- hours_worked_per_week: an integer that specifies the usual weekly work hours of the individual.\n",
    "- earnings_per_week: a float that indicates the weekly earnings of the individual.\n",
    "The CSV file has a column for each of these variables. Here are the first few lines of the file:"
   ]
  },
  {
   "cell_type": "code",
   "execution_count": 132,
   "metadata": {
    "scrolled": true
   },
   "outputs": [
    {
     "data": {
      "text/html": [
       "<div>\n",
       "<style scoped>\n",
       "    .dataframe tbody tr th:only-of-type {\n",
       "        vertical-align: middle;\n",
       "    }\n",
       "\n",
       "    .dataframe tbody tr th {\n",
       "        vertical-align: top;\n",
       "    }\n",
       "\n",
       "    .dataframe thead th {\n",
       "        text-align: right;\n",
       "    }\n",
       "</style>\n",
       "<table border=\"1\" class=\"dataframe\">\n",
       "  <thead>\n",
       "    <tr style=\"text-align: right;\">\n",
       "      <th></th>\n",
       "      <th>h_id</th>\n",
       "      <th>age</th>\n",
       "      <th>gender</th>\n",
       "      <th>race</th>\n",
       "      <th>ethnicity</th>\n",
       "      <th>employment_status</th>\n",
       "      <th>hours_worked_per_week</th>\n",
       "      <th>earnings_per_week</th>\n",
       "    </tr>\n",
       "  </thead>\n",
       "  <tbody>\n",
       "    <tr>\n",
       "      <th>0</th>\n",
       "      <td>1_1_1</td>\n",
       "      <td>32</td>\n",
       "      <td>Female</td>\n",
       "      <td>BlackOnly</td>\n",
       "      <td>Non-Hispanic</td>\n",
       "      <td>Working</td>\n",
       "      <td>40.0</td>\n",
       "      <td>1250.00</td>\n",
       "    </tr>\n",
       "    <tr>\n",
       "      <th>1</th>\n",
       "      <td>1_2_2</td>\n",
       "      <td>80</td>\n",
       "      <td>Female</td>\n",
       "      <td>WhiteOnly</td>\n",
       "      <td>Non-Hispanic</td>\n",
       "      <td>Others2</td>\n",
       "      <td>NaN</td>\n",
       "      <td>NaN</td>\n",
       "    </tr>\n",
       "    <tr>\n",
       "      <th>2</th>\n",
       "      <td>1_3_3</td>\n",
       "      <td>20</td>\n",
       "      <td>Female</td>\n",
       "      <td>BlackOnly</td>\n",
       "      <td>Non-Hispanic</td>\n",
       "      <td>Others2</td>\n",
       "      <td>NaN</td>\n",
       "      <td>NaN</td>\n",
       "    </tr>\n",
       "    <tr>\n",
       "      <th>3</th>\n",
       "      <td>1_4_4</td>\n",
       "      <td>28</td>\n",
       "      <td>Male</td>\n",
       "      <td>WhiteOnly</td>\n",
       "      <td>Non-Hispanic</td>\n",
       "      <td>Working</td>\n",
       "      <td>40.0</td>\n",
       "      <td>1100.00</td>\n",
       "    </tr>\n",
       "    <tr>\n",
       "      <th>4</th>\n",
       "      <td>1_5_5</td>\n",
       "      <td>32</td>\n",
       "      <td>Male</td>\n",
       "      <td>WhiteOnly</td>\n",
       "      <td>Non-Hispanic</td>\n",
       "      <td>Working</td>\n",
       "      <td>52.0</td>\n",
       "      <td>1289.23</td>\n",
       "    </tr>\n",
       "    <tr>\n",
       "      <th>5</th>\n",
       "      <td>1_6_6</td>\n",
       "      <td>69</td>\n",
       "      <td>Female</td>\n",
       "      <td>WhiteOnly</td>\n",
       "      <td>Non-Hispanic</td>\n",
       "      <td>Others1</td>\n",
       "      <td>NaN</td>\n",
       "      <td>NaN</td>\n",
       "    </tr>\n",
       "    <tr>\n",
       "      <th>6</th>\n",
       "      <td>1_7_7</td>\n",
       "      <td>80</td>\n",
       "      <td>Female</td>\n",
       "      <td>WhiteOnly</td>\n",
       "      <td>Non-Hispanic</td>\n",
       "      <td>Others1</td>\n",
       "      <td>NaN</td>\n",
       "      <td>NaN</td>\n",
       "    </tr>\n",
       "    <tr>\n",
       "      <th>7</th>\n",
       "      <td>1_8_8</td>\n",
       "      <td>31</td>\n",
       "      <td>Male</td>\n",
       "      <td>WhiteOnly</td>\n",
       "      <td>Non-Hispanic</td>\n",
       "      <td>Working</td>\n",
       "      <td>45.0</td>\n",
       "      <td>866.25</td>\n",
       "    </tr>\n",
       "    <tr>\n",
       "      <th>8</th>\n",
       "      <td>1_9_9</td>\n",
       "      <td>68</td>\n",
       "      <td>Female</td>\n",
       "      <td>WhiteOnly</td>\n",
       "      <td>Non-Hispanic</td>\n",
       "      <td>Working</td>\n",
       "      <td>10.0</td>\n",
       "      <td>105.00</td>\n",
       "    </tr>\n",
       "    <tr>\n",
       "      <th>9</th>\n",
       "      <td>1_11_11</td>\n",
       "      <td>75</td>\n",
       "      <td>Male</td>\n",
       "      <td>WhiteOnly</td>\n",
       "      <td>Non-Hispanic</td>\n",
       "      <td>Others1</td>\n",
       "      <td>NaN</td>\n",
       "      <td>NaN</td>\n",
       "    </tr>\n",
       "  </tbody>\n",
       "</table>\n",
       "</div>"
      ],
      "text/plain": [
       "      h_id  age  gender       race     ethnicity employment_status  \\\n",
       "0    1_1_1   32  Female  BlackOnly  Non-Hispanic           Working   \n",
       "1    1_2_2   80  Female  WhiteOnly  Non-Hispanic           Others2   \n",
       "2    1_3_3   20  Female  BlackOnly  Non-Hispanic           Others2   \n",
       "3    1_4_4   28    Male  WhiteOnly  Non-Hispanic           Working   \n",
       "4    1_5_5   32    Male  WhiteOnly  Non-Hispanic           Working   \n",
       "5    1_6_6   69  Female  WhiteOnly  Non-Hispanic           Others1   \n",
       "6    1_7_7   80  Female  WhiteOnly  Non-Hispanic           Others1   \n",
       "7    1_8_8   31    Male  WhiteOnly  Non-Hispanic           Working   \n",
       "8    1_9_9   68  Female  WhiteOnly  Non-Hispanic           Working   \n",
       "9  1_11_11   75    Male  WhiteOnly  Non-Hispanic           Others1   \n",
       "\n",
       "   hours_worked_per_week  earnings_per_week  \n",
       "0                   40.0            1250.00  \n",
       "1                    NaN                NaN  \n",
       "2                    NaN                NaN  \n",
       "3                   40.0            1100.00  \n",
       "4                   52.0            1289.23  \n",
       "5                    NaN                NaN  \n",
       "6                    NaN                NaN  \n",
       "7                   45.0             866.25  \n",
       "8                   10.0             105.00  \n",
       "9                    NaN                NaN  "
      ]
     },
     "execution_count": 132,
     "metadata": {},
     "output_type": "execute_result"
    }
   ],
   "source": [
    "morg_df = pd.read_csv('data/morg_d07_strings.csv')\n",
    "morg_df.head(10)"
   ]
  },
  {
   "cell_type": "markdown",
   "metadata": {},
   "source": [
    "#### Task 1: \n",
    "Use pd.read_csv to read the sample data into a pandas dataframe and save the result in a variable named morg_df. Use h_id, which uniquely identifies each row, and as the row index."
   ]
  },
  {
   "cell_type": "code",
   "execution_count": 133,
   "metadata": {},
   "outputs": [
    {
     "data": {
      "text/html": [
       "<div>\n",
       "<style scoped>\n",
       "    .dataframe tbody tr th:only-of-type {\n",
       "        vertical-align: middle;\n",
       "    }\n",
       "\n",
       "    .dataframe tbody tr th {\n",
       "        vertical-align: top;\n",
       "    }\n",
       "\n",
       "    .dataframe thead th {\n",
       "        text-align: right;\n",
       "    }\n",
       "</style>\n",
       "<table border=\"1\" class=\"dataframe\">\n",
       "  <thead>\n",
       "    <tr style=\"text-align: right;\">\n",
       "      <th></th>\n",
       "      <th>age</th>\n",
       "      <th>gender</th>\n",
       "      <th>race</th>\n",
       "      <th>ethnicity</th>\n",
       "      <th>employment_status</th>\n",
       "      <th>hours_worked_per_week</th>\n",
       "      <th>earnings_per_week</th>\n",
       "    </tr>\n",
       "    <tr>\n",
       "      <th>h_id</th>\n",
       "      <th></th>\n",
       "      <th></th>\n",
       "      <th></th>\n",
       "      <th></th>\n",
       "      <th></th>\n",
       "      <th></th>\n",
       "      <th></th>\n",
       "    </tr>\n",
       "  </thead>\n",
       "  <tbody>\n",
       "    <tr>\n",
       "      <th>1_1_1</th>\n",
       "      <td>32</td>\n",
       "      <td>Female</td>\n",
       "      <td>BlackOnly</td>\n",
       "      <td>Non-Hispanic</td>\n",
       "      <td>Working</td>\n",
       "      <td>40.0</td>\n",
       "      <td>1250.00</td>\n",
       "    </tr>\n",
       "    <tr>\n",
       "      <th>1_2_2</th>\n",
       "      <td>80</td>\n",
       "      <td>Female</td>\n",
       "      <td>WhiteOnly</td>\n",
       "      <td>Non-Hispanic</td>\n",
       "      <td>Others2</td>\n",
       "      <td>NaN</td>\n",
       "      <td>NaN</td>\n",
       "    </tr>\n",
       "    <tr>\n",
       "      <th>1_3_3</th>\n",
       "      <td>20</td>\n",
       "      <td>Female</td>\n",
       "      <td>BlackOnly</td>\n",
       "      <td>Non-Hispanic</td>\n",
       "      <td>Others2</td>\n",
       "      <td>NaN</td>\n",
       "      <td>NaN</td>\n",
       "    </tr>\n",
       "    <tr>\n",
       "      <th>1_4_4</th>\n",
       "      <td>28</td>\n",
       "      <td>Male</td>\n",
       "      <td>WhiteOnly</td>\n",
       "      <td>Non-Hispanic</td>\n",
       "      <td>Working</td>\n",
       "      <td>40.0</td>\n",
       "      <td>1100.00</td>\n",
       "    </tr>\n",
       "    <tr>\n",
       "      <th>1_5_5</th>\n",
       "      <td>32</td>\n",
       "      <td>Male</td>\n",
       "      <td>WhiteOnly</td>\n",
       "      <td>Non-Hispanic</td>\n",
       "      <td>Working</td>\n",
       "      <td>52.0</td>\n",
       "      <td>1289.23</td>\n",
       "    </tr>\n",
       "  </tbody>\n",
       "</table>\n",
       "</div>"
      ],
      "text/plain": [
       "       age  gender       race     ethnicity employment_status  \\\n",
       "h_id                                                            \n",
       "1_1_1   32  Female  BlackOnly  Non-Hispanic           Working   \n",
       "1_2_2   80  Female  WhiteOnly  Non-Hispanic           Others2   \n",
       "1_3_3   20  Female  BlackOnly  Non-Hispanic           Others2   \n",
       "1_4_4   28    Male  WhiteOnly  Non-Hispanic           Working   \n",
       "1_5_5   32    Male  WhiteOnly  Non-Hispanic           Working   \n",
       "\n",
       "       hours_worked_per_week  earnings_per_week  \n",
       "h_id                                             \n",
       "1_1_1                   40.0            1250.00  \n",
       "1_2_2                    NaN                NaN  \n",
       "1_3_3                    NaN                NaN  \n",
       "1_4_4                   40.0            1100.00  \n",
       "1_5_5                   52.0            1289.23  "
      ]
     },
     "execution_count": 133,
     "metadata": {},
     "output_type": "execute_result"
    }
   ],
   "source": [
    "morg_df = pd.read_csv('data/morg_d07_strings.csv', index_col = 'h_id')\n",
    "morg_df.head()"
   ]
  },
  {
   "cell_type": "markdown",
   "metadata": {},
   "source": [
    "### Some simple analysis\n",
    "Use .dtypes, .shape and .describe()"
   ]
  },
  {
   "cell_type": "code",
   "execution_count": 134,
   "metadata": {},
   "outputs": [
    {
     "data": {
      "text/plain": [
       "age                        int64\n",
       "gender                    object\n",
       "race                      object\n",
       "ethnicity                 object\n",
       "employment_status         object\n",
       "hours_worked_per_week    float64\n",
       "earnings_per_week        float64\n",
       "dtype: object"
      ]
     },
     "execution_count": 134,
     "metadata": {},
     "output_type": "execute_result"
    }
   ],
   "source": [
    "morg_df.dtypes"
   ]
  },
  {
   "cell_type": "code",
   "execution_count": 135,
   "metadata": {},
   "outputs": [
    {
     "data": {
      "text/plain": [
       "(284020, 7)"
      ]
     },
     "execution_count": 135,
     "metadata": {},
     "output_type": "execute_result"
    }
   ],
   "source": [
    "morg_df.shape"
   ]
  },
  {
   "cell_type": "code",
   "execution_count": 136,
   "metadata": {},
   "outputs": [
    {
     "data": {
      "text/plain": [
       "1988140"
      ]
     },
     "execution_count": 136,
     "metadata": {},
     "output_type": "execute_result"
    }
   ],
   "source": [
    "morg_df.size"
   ]
  },
  {
   "cell_type": "code",
   "execution_count": 137,
   "metadata": {},
   "outputs": [
    {
     "data": {
      "text/plain": [
       "284020"
      ]
     },
     "execution_count": 137,
     "metadata": {},
     "output_type": "execute_result"
    }
   ],
   "source": [
    "len(morg_df)"
   ]
  },
  {
   "cell_type": "code",
   "execution_count": 138,
   "metadata": {},
   "outputs": [
    {
     "data": {
      "text/html": [
       "<div>\n",
       "<style scoped>\n",
       "    .dataframe tbody tr th:only-of-type {\n",
       "        vertical-align: middle;\n",
       "    }\n",
       "\n",
       "    .dataframe tbody tr th {\n",
       "        vertical-align: top;\n",
       "    }\n",
       "\n",
       "    .dataframe thead th {\n",
       "        text-align: right;\n",
       "    }\n",
       "</style>\n",
       "<table border=\"1\" class=\"dataframe\">\n",
       "  <thead>\n",
       "    <tr style=\"text-align: right;\">\n",
       "      <th></th>\n",
       "      <th>age</th>\n",
       "      <th>hours_worked_per_week</th>\n",
       "      <th>earnings_per_week</th>\n",
       "    </tr>\n",
       "  </thead>\n",
       "  <tbody>\n",
       "    <tr>\n",
       "      <th>count</th>\n",
       "      <td>284020.000000</td>\n",
       "      <td>166620.000000</td>\n",
       "      <td>166315.000000</td>\n",
       "    </tr>\n",
       "    <tr>\n",
       "      <th>mean</th>\n",
       "      <td>45.594757</td>\n",
       "      <td>38.773695</td>\n",
       "      <td>767.404918</td>\n",
       "    </tr>\n",
       "    <tr>\n",
       "      <th>std</th>\n",
       "      <td>18.475112</td>\n",
       "      <td>10.462456</td>\n",
       "      <td>566.180836</td>\n",
       "    </tr>\n",
       "    <tr>\n",
       "      <th>min</th>\n",
       "      <td>16.000000</td>\n",
       "      <td>0.000000</td>\n",
       "      <td>0.000000</td>\n",
       "    </tr>\n",
       "    <tr>\n",
       "      <th>25%</th>\n",
       "      <td>30.000000</td>\n",
       "      <td>40.000000</td>\n",
       "      <td>384.610000</td>\n",
       "    </tr>\n",
       "    <tr>\n",
       "      <th>50%</th>\n",
       "      <td>45.000000</td>\n",
       "      <td>40.000000</td>\n",
       "      <td>615.380000</td>\n",
       "    </tr>\n",
       "    <tr>\n",
       "      <th>75%</th>\n",
       "      <td>59.000000</td>\n",
       "      <td>40.000000</td>\n",
       "      <td>990.380000</td>\n",
       "    </tr>\n",
       "    <tr>\n",
       "      <th>max</th>\n",
       "      <td>85.000000</td>\n",
       "      <td>99.000000</td>\n",
       "      <td>2884.610000</td>\n",
       "    </tr>\n",
       "  </tbody>\n",
       "</table>\n",
       "</div>"
      ],
      "text/plain": [
       "                 age  hours_worked_per_week  earnings_per_week\n",
       "count  284020.000000          166620.000000      166315.000000\n",
       "mean       45.594757              38.773695         767.404918\n",
       "std        18.475112              10.462456         566.180836\n",
       "min        16.000000               0.000000           0.000000\n",
       "25%        30.000000              40.000000         384.610000\n",
       "50%        45.000000              40.000000         615.380000\n",
       "75%        59.000000              40.000000         990.380000\n",
       "max        85.000000              99.000000        2884.610000"
      ]
     },
     "execution_count": 138,
     "metadata": {},
     "output_type": "execute_result"
    }
   ],
   "source": [
    "morg_df.describe()"
   ]
  },
  {
   "cell_type": "code",
   "execution_count": 139,
   "metadata": {},
   "outputs": [
    {
     "data": {
      "text/plain": [
       "Index(['age', 'gender', 'race', 'ethnicity', 'employment_status',\n",
       "       'hours_worked_per_week', 'earnings_per_week'],\n",
       "      dtype='object')"
      ]
     },
     "execution_count": 139,
     "metadata": {},
     "output_type": "execute_result"
    }
   ],
   "source": [
    "morg_df.columns"
   ]
  },
  {
   "cell_type": "markdown",
   "metadata": {},
   "source": [
    "## Getting values"
   ]
  },
  {
   "cell_type": "markdown",
   "metadata": {},
   "source": [
    "#### Task 2: \n",
    "Extract the \"age\" column from morg_df."
   ]
  },
  {
   "cell_type": "code",
   "execution_count": 140,
   "metadata": {},
   "outputs": [
    {
     "data": {
      "text/plain": [
       "h_id\n",
       "1_1_1    32\n",
       "1_2_2    80\n",
       "1_3_3    20\n",
       "1_4_4    28\n",
       "1_5_5    32\n",
       "Name: age, dtype: int64"
      ]
     },
     "execution_count": 140,
     "metadata": {},
     "output_type": "execute_result"
    }
   ],
   "source": [
    "morg_df['age'].head()"
   ]
  },
  {
   "cell_type": "markdown",
   "metadata": {},
   "source": [
    "#### Task 3: \n",
    "Extract the row that corresponds to h_id 1_2_2 from morg_df."
   ]
  },
  {
   "cell_type": "code",
   "execution_count": 141,
   "metadata": {},
   "outputs": [
    {
     "data": {
      "text/plain": [
       "age                                80\n",
       "gender                         Female\n",
       "race                        WhiteOnly\n",
       "ethnicity                Non-Hispanic\n",
       "employment_status             Others2\n",
       "hours_worked_per_week             NaN\n",
       "earnings_per_week                 NaN\n",
       "Name: 1_2_2, dtype: object"
      ]
     },
     "execution_count": 141,
     "metadata": {},
     "output_type": "execute_result"
    }
   ],
   "source": [
    "morg_df.loc['1_2_2',]"
   ]
  },
  {
   "cell_type": "code",
   "execution_count": 142,
   "metadata": {},
   "outputs": [
    {
     "data": {
      "text/plain": [
       "pandas.core.series.Series"
      ]
     },
     "execution_count": 142,
     "metadata": {},
     "output_type": "execute_result"
    }
   ],
   "source": [
    "type(morg_df.loc['1_2_2',])"
   ]
  },
  {
   "cell_type": "code",
   "execution_count": 143,
   "metadata": {},
   "outputs": [
    {
     "data": {
      "text/plain": [
       "'Female'"
      ]
     },
     "execution_count": 143,
     "metadata": {},
     "output_type": "execute_result"
    }
   ],
   "source": [
    "morg_df.loc['1_2_2', 'gender']"
   ]
  },
  {
   "cell_type": "code",
   "execution_count": 144,
   "metadata": {},
   "outputs": [
    {
     "data": {
      "text/plain": [
       "age                                28\n",
       "gender                           Male\n",
       "race                        WhiteOnly\n",
       "ethnicity                Non-Hispanic\n",
       "employment_status             Working\n",
       "hours_worked_per_week              40\n",
       "earnings_per_week                1100\n",
       "Name: 1_4_4, dtype: object"
      ]
     },
     "execution_count": 144,
     "metadata": {},
     "output_type": "execute_result"
    }
   ],
   "source": [
    "morg_df.iloc[3,]"
   ]
  },
  {
   "cell_type": "markdown",
   "metadata": {},
   "source": [
    "#### Task 4: \n",
    "Use slicing to extract the first four rows of morg_df."
   ]
  },
  {
   "cell_type": "code",
   "execution_count": 145,
   "metadata": {},
   "outputs": [
    {
     "data": {
      "text/html": [
       "<div>\n",
       "<style scoped>\n",
       "    .dataframe tbody tr th:only-of-type {\n",
       "        vertical-align: middle;\n",
       "    }\n",
       "\n",
       "    .dataframe tbody tr th {\n",
       "        vertical-align: top;\n",
       "    }\n",
       "\n",
       "    .dataframe thead th {\n",
       "        text-align: right;\n",
       "    }\n",
       "</style>\n",
       "<table border=\"1\" class=\"dataframe\">\n",
       "  <thead>\n",
       "    <tr style=\"text-align: right;\">\n",
       "      <th></th>\n",
       "      <th>age</th>\n",
       "      <th>gender</th>\n",
       "      <th>race</th>\n",
       "      <th>ethnicity</th>\n",
       "      <th>employment_status</th>\n",
       "      <th>hours_worked_per_week</th>\n",
       "      <th>earnings_per_week</th>\n",
       "    </tr>\n",
       "    <tr>\n",
       "      <th>h_id</th>\n",
       "      <th></th>\n",
       "      <th></th>\n",
       "      <th></th>\n",
       "      <th></th>\n",
       "      <th></th>\n",
       "      <th></th>\n",
       "      <th></th>\n",
       "    </tr>\n",
       "  </thead>\n",
       "  <tbody>\n",
       "    <tr>\n",
       "      <th>1_1_1</th>\n",
       "      <td>32</td>\n",
       "      <td>Female</td>\n",
       "      <td>BlackOnly</td>\n",
       "      <td>Non-Hispanic</td>\n",
       "      <td>Working</td>\n",
       "      <td>40.0</td>\n",
       "      <td>1250.0</td>\n",
       "    </tr>\n",
       "    <tr>\n",
       "      <th>1_2_2</th>\n",
       "      <td>80</td>\n",
       "      <td>Female</td>\n",
       "      <td>WhiteOnly</td>\n",
       "      <td>Non-Hispanic</td>\n",
       "      <td>Others2</td>\n",
       "      <td>NaN</td>\n",
       "      <td>NaN</td>\n",
       "    </tr>\n",
       "    <tr>\n",
       "      <th>1_3_3</th>\n",
       "      <td>20</td>\n",
       "      <td>Female</td>\n",
       "      <td>BlackOnly</td>\n",
       "      <td>Non-Hispanic</td>\n",
       "      <td>Others2</td>\n",
       "      <td>NaN</td>\n",
       "      <td>NaN</td>\n",
       "    </tr>\n",
       "    <tr>\n",
       "      <th>1_4_4</th>\n",
       "      <td>28</td>\n",
       "      <td>Male</td>\n",
       "      <td>WhiteOnly</td>\n",
       "      <td>Non-Hispanic</td>\n",
       "      <td>Working</td>\n",
       "      <td>40.0</td>\n",
       "      <td>1100.0</td>\n",
       "    </tr>\n",
       "  </tbody>\n",
       "</table>\n",
       "</div>"
      ],
      "text/plain": [
       "       age  gender       race     ethnicity employment_status  \\\n",
       "h_id                                                            \n",
       "1_1_1   32  Female  BlackOnly  Non-Hispanic           Working   \n",
       "1_2_2   80  Female  WhiteOnly  Non-Hispanic           Others2   \n",
       "1_3_3   20  Female  BlackOnly  Non-Hispanic           Others2   \n",
       "1_4_4   28    Male  WhiteOnly  Non-Hispanic           Working   \n",
       "\n",
       "       hours_worked_per_week  earnings_per_week  \n",
       "h_id                                             \n",
       "1_1_1                   40.0             1250.0  \n",
       "1_2_2                    NaN                NaN  \n",
       "1_3_3                    NaN                NaN  \n",
       "1_4_4                   40.0             1100.0  "
      ]
     },
     "execution_count": 145,
     "metadata": {},
     "output_type": "execute_result"
    }
   ],
   "source": [
    "morg_df.iloc[:4]"
   ]
  },
  {
   "cell_type": "markdown",
   "metadata": {},
   "source": [
    "#### Task 5:\n",
    "Use:\n",
    "- .isna()\n",
    "- .isna().all()\n",
    "- .isna().any(axis=1)\n",
    "- .isna().any(axis=0)\n",
    "See what is the difference"
   ]
  },
  {
   "cell_type": "code",
   "execution_count": 146,
   "metadata": {},
   "outputs": [
    {
     "data": {
      "text/html": [
       "<div>\n",
       "<style scoped>\n",
       "    .dataframe tbody tr th:only-of-type {\n",
       "        vertical-align: middle;\n",
       "    }\n",
       "\n",
       "    .dataframe tbody tr th {\n",
       "        vertical-align: top;\n",
       "    }\n",
       "\n",
       "    .dataframe thead th {\n",
       "        text-align: right;\n",
       "    }\n",
       "</style>\n",
       "<table border=\"1\" class=\"dataframe\">\n",
       "  <thead>\n",
       "    <tr style=\"text-align: right;\">\n",
       "      <th></th>\n",
       "      <th>age</th>\n",
       "      <th>gender</th>\n",
       "      <th>race</th>\n",
       "      <th>ethnicity</th>\n",
       "      <th>employment_status</th>\n",
       "      <th>hours_worked_per_week</th>\n",
       "      <th>earnings_per_week</th>\n",
       "    </tr>\n",
       "    <tr>\n",
       "      <th>h_id</th>\n",
       "      <th></th>\n",
       "      <th></th>\n",
       "      <th></th>\n",
       "      <th></th>\n",
       "      <th></th>\n",
       "      <th></th>\n",
       "      <th></th>\n",
       "    </tr>\n",
       "  </thead>\n",
       "  <tbody>\n",
       "    <tr>\n",
       "      <th>1_1_1</th>\n",
       "      <td>False</td>\n",
       "      <td>False</td>\n",
       "      <td>False</td>\n",
       "      <td>False</td>\n",
       "      <td>False</td>\n",
       "      <td>False</td>\n",
       "      <td>False</td>\n",
       "    </tr>\n",
       "    <tr>\n",
       "      <th>1_2_2</th>\n",
       "      <td>False</td>\n",
       "      <td>False</td>\n",
       "      <td>False</td>\n",
       "      <td>False</td>\n",
       "      <td>False</td>\n",
       "      <td>True</td>\n",
       "      <td>True</td>\n",
       "    </tr>\n",
       "    <tr>\n",
       "      <th>1_3_3</th>\n",
       "      <td>False</td>\n",
       "      <td>False</td>\n",
       "      <td>False</td>\n",
       "      <td>False</td>\n",
       "      <td>False</td>\n",
       "      <td>True</td>\n",
       "      <td>True</td>\n",
       "    </tr>\n",
       "    <tr>\n",
       "      <th>1_4_4</th>\n",
       "      <td>False</td>\n",
       "      <td>False</td>\n",
       "      <td>False</td>\n",
       "      <td>False</td>\n",
       "      <td>False</td>\n",
       "      <td>False</td>\n",
       "      <td>False</td>\n",
       "    </tr>\n",
       "    <tr>\n",
       "      <th>1_5_5</th>\n",
       "      <td>False</td>\n",
       "      <td>False</td>\n",
       "      <td>False</td>\n",
       "      <td>False</td>\n",
       "      <td>False</td>\n",
       "      <td>False</td>\n",
       "      <td>False</td>\n",
       "    </tr>\n",
       "  </tbody>\n",
       "</table>\n",
       "</div>"
      ],
      "text/plain": [
       "         age  gender   race  ethnicity  employment_status  \\\n",
       "h_id                                                        \n",
       "1_1_1  False   False  False      False              False   \n",
       "1_2_2  False   False  False      False              False   \n",
       "1_3_3  False   False  False      False              False   \n",
       "1_4_4  False   False  False      False              False   \n",
       "1_5_5  False   False  False      False              False   \n",
       "\n",
       "       hours_worked_per_week  earnings_per_week  \n",
       "h_id                                             \n",
       "1_1_1                  False              False  \n",
       "1_2_2                   True               True  \n",
       "1_3_3                   True               True  \n",
       "1_4_4                  False              False  \n",
       "1_5_5                  False              False  "
      ]
     },
     "execution_count": 146,
     "metadata": {},
     "output_type": "execute_result"
    }
   ],
   "source": [
    "morg_df.isna().head()"
   ]
  },
  {
   "cell_type": "code",
   "execution_count": 147,
   "metadata": {},
   "outputs": [
    {
     "data": {
      "text/plain": [
       "False"
      ]
     },
     "execution_count": 147,
     "metadata": {},
     "output_type": "execute_result"
    }
   ],
   "source": [
    "morg_df.isna().any().all()"
   ]
  },
  {
   "cell_type": "code",
   "execution_count": 148,
   "metadata": {},
   "outputs": [
    {
     "data": {
      "text/plain": [
       "h_id\n",
       "1_1_1    False\n",
       "1_2_2     True\n",
       "1_3_3     True\n",
       "1_4_4    False\n",
       "1_5_5    False\n",
       "dtype: bool"
      ]
     },
     "execution_count": 148,
     "metadata": {},
     "output_type": "execute_result"
    }
   ],
   "source": [
    "morg_df.isna().any(axis = 1).head()"
   ]
  },
  {
   "cell_type": "code",
   "execution_count": 149,
   "metadata": {},
   "outputs": [
    {
     "data": {
      "text/plain": [
       "age                      False\n",
       "gender                   False\n",
       "race                     False\n",
       "ethnicity                False\n",
       "employment_status        False\n",
       "hours_worked_per_week    False\n",
       "earnings_per_week        False\n",
       "dtype: bool"
      ]
     },
     "execution_count": 149,
     "metadata": {},
     "output_type": "execute_result"
    }
   ],
   "source": [
    "morg_df.isna().all()"
   ]
  },
  {
   "cell_type": "markdown",
   "metadata": {},
   "source": [
    "### Task 6: \n",
    "Replace the NA values. Use the fillna method to replace the missing values in the columns you identified in the previous task with zero."
   ]
  },
  {
   "cell_type": "code",
   "execution_count": 150,
   "metadata": {},
   "outputs": [],
   "source": [
    "morg_df.fillna(0, inplace = True)"
   ]
  },
  {
   "cell_type": "code",
   "execution_count": 151,
   "metadata": {},
   "outputs": [
    {
     "data": {
      "text/plain": [
       "age                      False\n",
       "gender                   False\n",
       "race                     False\n",
       "ethnicity                False\n",
       "employment_status        False\n",
       "hours_worked_per_week    False\n",
       "earnings_per_week        False\n",
       "dtype: bool"
      ]
     },
     "execution_count": 151,
     "metadata": {},
     "output_type": "execute_result"
    }
   ],
   "source": [
    "morg_df.isna().any()"
   ]
  },
  {
   "cell_type": "markdown",
   "metadata": {},
   "source": [
    "### Task 9: \n",
    "Use filtering to extract all rows that correspond to a person who works 35 or more hours per week."
   ]
  },
  {
   "cell_type": "code",
   "execution_count": 152,
   "metadata": {},
   "outputs": [
    {
     "data": {
      "text/html": [
       "<div>\n",
       "<style scoped>\n",
       "    .dataframe tbody tr th:only-of-type {\n",
       "        vertical-align: middle;\n",
       "    }\n",
       "\n",
       "    .dataframe tbody tr th {\n",
       "        vertical-align: top;\n",
       "    }\n",
       "\n",
       "    .dataframe thead th {\n",
       "        text-align: right;\n",
       "    }\n",
       "</style>\n",
       "<table border=\"1\" class=\"dataframe\">\n",
       "  <thead>\n",
       "    <tr style=\"text-align: right;\">\n",
       "      <th></th>\n",
       "      <th>age</th>\n",
       "      <th>gender</th>\n",
       "      <th>race</th>\n",
       "      <th>ethnicity</th>\n",
       "      <th>employment_status</th>\n",
       "      <th>hours_worked_per_week</th>\n",
       "      <th>earnings_per_week</th>\n",
       "    </tr>\n",
       "    <tr>\n",
       "      <th>h_id</th>\n",
       "      <th></th>\n",
       "      <th></th>\n",
       "      <th></th>\n",
       "      <th></th>\n",
       "      <th></th>\n",
       "      <th></th>\n",
       "      <th></th>\n",
       "    </tr>\n",
       "  </thead>\n",
       "  <tbody>\n",
       "    <tr>\n",
       "      <th>1_1_1</th>\n",
       "      <td>32</td>\n",
       "      <td>Female</td>\n",
       "      <td>BlackOnly</td>\n",
       "      <td>Non-Hispanic</td>\n",
       "      <td>Working</td>\n",
       "      <td>40.0</td>\n",
       "      <td>1250.00</td>\n",
       "    </tr>\n",
       "    <tr>\n",
       "      <th>1_4_4</th>\n",
       "      <td>28</td>\n",
       "      <td>Male</td>\n",
       "      <td>WhiteOnly</td>\n",
       "      <td>Non-Hispanic</td>\n",
       "      <td>Working</td>\n",
       "      <td>40.0</td>\n",
       "      <td>1100.00</td>\n",
       "    </tr>\n",
       "    <tr>\n",
       "      <th>1_5_5</th>\n",
       "      <td>32</td>\n",
       "      <td>Male</td>\n",
       "      <td>WhiteOnly</td>\n",
       "      <td>Non-Hispanic</td>\n",
       "      <td>Working</td>\n",
       "      <td>52.0</td>\n",
       "      <td>1289.23</td>\n",
       "    </tr>\n",
       "    <tr>\n",
       "      <th>1_8_8</th>\n",
       "      <td>31</td>\n",
       "      <td>Male</td>\n",
       "      <td>WhiteOnly</td>\n",
       "      <td>Non-Hispanic</td>\n",
       "      <td>Working</td>\n",
       "      <td>45.0</td>\n",
       "      <td>866.25</td>\n",
       "    </tr>\n",
       "    <tr>\n",
       "      <th>1_14_14</th>\n",
       "      <td>19</td>\n",
       "      <td>Female</td>\n",
       "      <td>BlackOnly</td>\n",
       "      <td>Non-Hispanic</td>\n",
       "      <td>Working</td>\n",
       "      <td>40.0</td>\n",
       "      <td>350.00</td>\n",
       "    </tr>\n",
       "  </tbody>\n",
       "</table>\n",
       "</div>"
      ],
      "text/plain": [
       "         age  gender       race     ethnicity employment_status  \\\n",
       "h_id                                                              \n",
       "1_1_1     32  Female  BlackOnly  Non-Hispanic           Working   \n",
       "1_4_4     28    Male  WhiteOnly  Non-Hispanic           Working   \n",
       "1_5_5     32    Male  WhiteOnly  Non-Hispanic           Working   \n",
       "1_8_8     31    Male  WhiteOnly  Non-Hispanic           Working   \n",
       "1_14_14   19  Female  BlackOnly  Non-Hispanic           Working   \n",
       "\n",
       "         hours_worked_per_week  earnings_per_week  \n",
       "h_id                                               \n",
       "1_1_1                     40.0            1250.00  \n",
       "1_4_4                     40.0            1100.00  \n",
       "1_5_5                     52.0            1289.23  \n",
       "1_8_8                     45.0             866.25  \n",
       "1_14_14                   40.0             350.00  "
      ]
     },
     "execution_count": 152,
     "metadata": {},
     "output_type": "execute_result"
    }
   ],
   "source": [
    "morg_df[morg_df['hours_worked_per_week'] >= 35].head()"
   ]
  },
  {
   "cell_type": "markdown",
   "metadata": {},
   "source": [
    "### Task 7:\n",
    "Use filtering to extract the rows that correspond to the people who are not working."
   ]
  },
  {
   "cell_type": "code",
   "execution_count": 153,
   "metadata": {},
   "outputs": [
    {
     "data": {
      "text/html": [
       "<div>\n",
       "<style scoped>\n",
       "    .dataframe tbody tr th:only-of-type {\n",
       "        vertical-align: middle;\n",
       "    }\n",
       "\n",
       "    .dataframe tbody tr th {\n",
       "        vertical-align: top;\n",
       "    }\n",
       "\n",
       "    .dataframe thead th {\n",
       "        text-align: right;\n",
       "    }\n",
       "</style>\n",
       "<table border=\"1\" class=\"dataframe\">\n",
       "  <thead>\n",
       "    <tr style=\"text-align: right;\">\n",
       "      <th></th>\n",
       "      <th>age</th>\n",
       "      <th>gender</th>\n",
       "      <th>race</th>\n",
       "      <th>ethnicity</th>\n",
       "      <th>employment_status</th>\n",
       "      <th>hours_worked_per_week</th>\n",
       "      <th>earnings_per_week</th>\n",
       "    </tr>\n",
       "    <tr>\n",
       "      <th>h_id</th>\n",
       "      <th></th>\n",
       "      <th></th>\n",
       "      <th></th>\n",
       "      <th></th>\n",
       "      <th></th>\n",
       "      <th></th>\n",
       "      <th></th>\n",
       "    </tr>\n",
       "  </thead>\n",
       "  <tbody>\n",
       "    <tr>\n",
       "      <th>1_2_2</th>\n",
       "      <td>80</td>\n",
       "      <td>Female</td>\n",
       "      <td>WhiteOnly</td>\n",
       "      <td>Non-Hispanic</td>\n",
       "      <td>Others2</td>\n",
       "      <td>0.0</td>\n",
       "      <td>0.0</td>\n",
       "    </tr>\n",
       "    <tr>\n",
       "      <th>1_3_3</th>\n",
       "      <td>20</td>\n",
       "      <td>Female</td>\n",
       "      <td>BlackOnly</td>\n",
       "      <td>Non-Hispanic</td>\n",
       "      <td>Others2</td>\n",
       "      <td>0.0</td>\n",
       "      <td>0.0</td>\n",
       "    </tr>\n",
       "    <tr>\n",
       "      <th>1_6_6</th>\n",
       "      <td>69</td>\n",
       "      <td>Female</td>\n",
       "      <td>WhiteOnly</td>\n",
       "      <td>Non-Hispanic</td>\n",
       "      <td>Others1</td>\n",
       "      <td>0.0</td>\n",
       "      <td>0.0</td>\n",
       "    </tr>\n",
       "    <tr>\n",
       "      <th>1_7_7</th>\n",
       "      <td>80</td>\n",
       "      <td>Female</td>\n",
       "      <td>WhiteOnly</td>\n",
       "      <td>Non-Hispanic</td>\n",
       "      <td>Others1</td>\n",
       "      <td>0.0</td>\n",
       "      <td>0.0</td>\n",
       "    </tr>\n",
       "    <tr>\n",
       "      <th>1_11_11</th>\n",
       "      <td>75</td>\n",
       "      <td>Male</td>\n",
       "      <td>WhiteOnly</td>\n",
       "      <td>Non-Hispanic</td>\n",
       "      <td>Others1</td>\n",
       "      <td>0.0</td>\n",
       "      <td>0.0</td>\n",
       "    </tr>\n",
       "  </tbody>\n",
       "</table>\n",
       "</div>"
      ],
      "text/plain": [
       "         age  gender       race     ethnicity employment_status  \\\n",
       "h_id                                                              \n",
       "1_2_2     80  Female  WhiteOnly  Non-Hispanic           Others2   \n",
       "1_3_3     20  Female  BlackOnly  Non-Hispanic           Others2   \n",
       "1_6_6     69  Female  WhiteOnly  Non-Hispanic           Others1   \n",
       "1_7_7     80  Female  WhiteOnly  Non-Hispanic           Others1   \n",
       "1_11_11   75    Male  WhiteOnly  Non-Hispanic           Others1   \n",
       "\n",
       "         hours_worked_per_week  earnings_per_week  \n",
       "h_id                                               \n",
       "1_2_2                      0.0                0.0  \n",
       "1_3_3                      0.0                0.0  \n",
       "1_6_6                      0.0                0.0  \n",
       "1_7_7                      0.0                0.0  \n",
       "1_11_11                    0.0                0.0  "
      ]
     },
     "execution_count": 153,
     "metadata": {},
     "output_type": "execute_result"
    }
   ],
   "source": [
    "morg_df[morg_df['hours_worked_per_week'] == 0].head()"
   ]
  },
  {
   "cell_type": "markdown",
   "metadata": {},
   "source": [
    "### Task 8:\n",
    "Use filtering to extract the rows that correspond to people who worked at least 35 hours per week or who earned more than $1000 per week."
   ]
  },
  {
   "cell_type": "code",
   "execution_count": 154,
   "metadata": {},
   "outputs": [
    {
     "data": {
      "text/html": [
       "<div>\n",
       "<style scoped>\n",
       "    .dataframe tbody tr th:only-of-type {\n",
       "        vertical-align: middle;\n",
       "    }\n",
       "\n",
       "    .dataframe tbody tr th {\n",
       "        vertical-align: top;\n",
       "    }\n",
       "\n",
       "    .dataframe thead th {\n",
       "        text-align: right;\n",
       "    }\n",
       "</style>\n",
       "<table border=\"1\" class=\"dataframe\">\n",
       "  <thead>\n",
       "    <tr style=\"text-align: right;\">\n",
       "      <th></th>\n",
       "      <th>age</th>\n",
       "      <th>gender</th>\n",
       "      <th>race</th>\n",
       "      <th>ethnicity</th>\n",
       "      <th>employment_status</th>\n",
       "      <th>hours_worked_per_week</th>\n",
       "      <th>earnings_per_week</th>\n",
       "    </tr>\n",
       "    <tr>\n",
       "      <th>h_id</th>\n",
       "      <th></th>\n",
       "      <th></th>\n",
       "      <th></th>\n",
       "      <th></th>\n",
       "      <th></th>\n",
       "      <th></th>\n",
       "      <th></th>\n",
       "    </tr>\n",
       "  </thead>\n",
       "  <tbody>\n",
       "    <tr>\n",
       "      <th>1_1_1</th>\n",
       "      <td>32</td>\n",
       "      <td>Female</td>\n",
       "      <td>BlackOnly</td>\n",
       "      <td>Non-Hispanic</td>\n",
       "      <td>Working</td>\n",
       "      <td>40.0</td>\n",
       "      <td>1250.00</td>\n",
       "    </tr>\n",
       "    <tr>\n",
       "      <th>1_4_4</th>\n",
       "      <td>28</td>\n",
       "      <td>Male</td>\n",
       "      <td>WhiteOnly</td>\n",
       "      <td>Non-Hispanic</td>\n",
       "      <td>Working</td>\n",
       "      <td>40.0</td>\n",
       "      <td>1100.00</td>\n",
       "    </tr>\n",
       "    <tr>\n",
       "      <th>1_5_5</th>\n",
       "      <td>32</td>\n",
       "      <td>Male</td>\n",
       "      <td>WhiteOnly</td>\n",
       "      <td>Non-Hispanic</td>\n",
       "      <td>Working</td>\n",
       "      <td>52.0</td>\n",
       "      <td>1289.23</td>\n",
       "    </tr>\n",
       "    <tr>\n",
       "      <th>1_17_17</th>\n",
       "      <td>55</td>\n",
       "      <td>Female</td>\n",
       "      <td>WhiteOnly</td>\n",
       "      <td>Non-Hispanic</td>\n",
       "      <td>Working</td>\n",
       "      <td>45.0</td>\n",
       "      <td>1153.84</td>\n",
       "    </tr>\n",
       "    <tr>\n",
       "      <th>1_51_51</th>\n",
       "      <td>31</td>\n",
       "      <td>Male</td>\n",
       "      <td>WhiteOnly</td>\n",
       "      <td>Non-Hispanic</td>\n",
       "      <td>Working</td>\n",
       "      <td>45.0</td>\n",
       "      <td>1400.00</td>\n",
       "    </tr>\n",
       "  </tbody>\n",
       "</table>\n",
       "</div>"
      ],
      "text/plain": [
       "         age  gender       race     ethnicity employment_status  \\\n",
       "h_id                                                              \n",
       "1_1_1     32  Female  BlackOnly  Non-Hispanic           Working   \n",
       "1_4_4     28    Male  WhiteOnly  Non-Hispanic           Working   \n",
       "1_5_5     32    Male  WhiteOnly  Non-Hispanic           Working   \n",
       "1_17_17   55  Female  WhiteOnly  Non-Hispanic           Working   \n",
       "1_51_51   31    Male  WhiteOnly  Non-Hispanic           Working   \n",
       "\n",
       "         hours_worked_per_week  earnings_per_week  \n",
       "h_id                                               \n",
       "1_1_1                     40.0            1250.00  \n",
       "1_4_4                     40.0            1100.00  \n",
       "1_5_5                     52.0            1289.23  \n",
       "1_17_17                   45.0            1153.84  \n",
       "1_51_51                   45.0            1400.00  "
      ]
     },
     "execution_count": 154,
     "metadata": {},
     "output_type": "execute_result"
    }
   ],
   "source": [
    "morg_df[(morg_df['hours_worked_per_week'] >= 35) & (morg_df['earnings_per_week'] > 1000)].head()"
   ]
  },
  {
   "cell_type": "markdown",
   "metadata": {},
   "source": [
    "## Task 9:\n",
    "Create a new DataFrame with people that worked. call it morg_df_worked"
   ]
  },
  {
   "cell_type": "code",
   "execution_count": 155,
   "metadata": {},
   "outputs": [],
   "source": [
    "morg_df_worked = morg_df[morg_df['hours_worked_per_week'] > 0].copy()\n",
    "#.copy() helps us tell pandas that we are in fact making a copy of\n",
    "#a DataFrame. Without copy, we get the warning in the next step. \n",
    "#Pandas is warning us that we only make changes in the new dataframe when\n",
    "#we may have wanted to do them in the original one."
   ]
  },
  {
   "cell_type": "markdown",
   "metadata": {},
   "source": [
    "### Task 10:\n",
    "Using mord_df_worked, create a new column with average earnings per hour called \"avg_earnings_per_hour\""
   ]
  },
  {
   "cell_type": "code",
   "execution_count": 156,
   "metadata": {},
   "outputs": [],
   "source": [
    "morg_df_worked.loc['avg_earnings_per_hr'] = morg_df_worked['earnings_per_week'] / morg_df_worked['hours_worked_per_week']"
   ]
  },
  {
   "cell_type": "markdown",
   "metadata": {},
   "source": [
    "### Task 12:\n",
    "Create a new column that has the following string: \"Earnings per week are: <earnings_per_week>\" using map. Call it 'string_earnings'."
   ]
  },
  {
   "cell_type": "code",
   "execution_count": 157,
   "metadata": {},
   "outputs": [
    {
     "data": {
      "text/plain": [
       "h_id\n",
       "1_1_1     Earnings per week are 1250.0\n",
       "1_4_4     Earnings per week are 1100.0\n",
       "1_5_5    Earnings per week are 1289.23\n",
       "1_8_8     Earnings per week are 866.25\n",
       "1_9_9      Earnings per week are 105.0\n",
       "Name: string_earnings, dtype: object"
      ]
     },
     "execution_count": 157,
     "metadata": {},
     "output_type": "execute_result"
    }
   ],
   "source": [
    "morg_df_worked['string_earnings'] = morg_df_worked['earnings_per_week'].map(\"Earnings per week are {}\".format)\n",
    "morg_df_worked['string_earnings'].head()"
   ]
  },
  {
   "cell_type": "markdown",
   "metadata": {},
   "source": [
    "### Task 13:\n",
    "\n",
    "Create a new dummy column 'female that has value of 1 if female. Use .map with a dictionary like this:\n",
    "gender_dict = {'Female': 1,\n",
    "               'Male': 0}"
   ]
  },
  {
   "cell_type": "code",
   "execution_count": 158,
   "metadata": {},
   "outputs": [
    {
     "data": {
      "text/plain": [
       "h_id\n",
       "1_1_1    1.0\n",
       "1_4_4    0.0\n",
       "1_5_5    0.0\n",
       "1_8_8    0.0\n",
       "1_9_9    1.0\n",
       "Name: female, dtype: float64"
      ]
     },
     "execution_count": 158,
     "metadata": {},
     "output_type": "execute_result"
    }
   ],
   "source": [
    "gender_dict = {'Female': 1, 'Male': 0}\n",
    "morg_df_worked['female'] = morg_df_worked['gender'].map(gender_dict)\n",
    "morg_df_worked['female'].head()"
   ]
  },
  {
   "cell_type": "code",
   "execution_count": 159,
   "metadata": {},
   "outputs": [
    {
     "data": {
      "text/plain": [
       "array([ 1.,  0., nan])"
      ]
     },
     "execution_count": 159,
     "metadata": {},
     "output_type": "execute_result"
    }
   ],
   "source": [
    "morg_df_worked['female'].unique()"
   ]
  },
  {
   "cell_type": "markdown",
   "metadata": {},
   "source": [
    "### Task 14:\n",
    "Create a new column 'hard_worker' equal to 1 if person worked more than the average hours worked. Use **apply**\n"
   ]
  },
  {
   "cell_type": "code",
   "execution_count": 160,
   "metadata": {},
   "outputs": [
    {
     "data": {
      "text/html": [
       "<div>\n",
       "<style scoped>\n",
       "    .dataframe tbody tr th:only-of-type {\n",
       "        vertical-align: middle;\n",
       "    }\n",
       "\n",
       "    .dataframe tbody tr th {\n",
       "        vertical-align: top;\n",
       "    }\n",
       "\n",
       "    .dataframe thead th {\n",
       "        text-align: right;\n",
       "    }\n",
       "</style>\n",
       "<table border=\"1\" class=\"dataframe\">\n",
       "  <thead>\n",
       "    <tr style=\"text-align: right;\">\n",
       "      <th></th>\n",
       "      <th>hours_worked_per_week</th>\n",
       "      <th>person_hard_worker</th>\n",
       "    </tr>\n",
       "    <tr>\n",
       "      <th>h_id</th>\n",
       "      <th></th>\n",
       "      <th></th>\n",
       "    </tr>\n",
       "  </thead>\n",
       "  <tbody>\n",
       "    <tr>\n",
       "      <th>1_1_1</th>\n",
       "      <td>40.0</td>\n",
       "      <td>1</td>\n",
       "    </tr>\n",
       "    <tr>\n",
       "      <th>1_4_4</th>\n",
       "      <td>40.0</td>\n",
       "      <td>1</td>\n",
       "    </tr>\n",
       "    <tr>\n",
       "      <th>1_5_5</th>\n",
       "      <td>52.0</td>\n",
       "      <td>1</td>\n",
       "    </tr>\n",
       "    <tr>\n",
       "      <th>1_8_8</th>\n",
       "      <td>45.0</td>\n",
       "      <td>1</td>\n",
       "    </tr>\n",
       "    <tr>\n",
       "      <th>1_9_9</th>\n",
       "      <td>10.0</td>\n",
       "      <td>0</td>\n",
       "    </tr>\n",
       "    <tr>\n",
       "      <th>1_13_13</th>\n",
       "      <td>30.0</td>\n",
       "      <td>0</td>\n",
       "    </tr>\n",
       "    <tr>\n",
       "      <th>1_14_14</th>\n",
       "      <td>40.0</td>\n",
       "      <td>1</td>\n",
       "    </tr>\n",
       "    <tr>\n",
       "      <th>1_17_17</th>\n",
       "      <td>45.0</td>\n",
       "      <td>1</td>\n",
       "    </tr>\n",
       "    <tr>\n",
       "      <th>1_18_18</th>\n",
       "      <td>21.0</td>\n",
       "      <td>0</td>\n",
       "    </tr>\n",
       "    <tr>\n",
       "      <th>1_19_19</th>\n",
       "      <td>40.0</td>\n",
       "      <td>1</td>\n",
       "    </tr>\n",
       "  </tbody>\n",
       "</table>\n",
       "</div>"
      ],
      "text/plain": [
       "         hours_worked_per_week  person_hard_worker\n",
       "h_id                                              \n",
       "1_1_1                     40.0                   1\n",
       "1_4_4                     40.0                   1\n",
       "1_5_5                     52.0                   1\n",
       "1_8_8                     45.0                   1\n",
       "1_9_9                     10.0                   0\n",
       "1_13_13                   30.0                   0\n",
       "1_14_14                   40.0                   1\n",
       "1_17_17                   45.0                   1\n",
       "1_18_18                   21.0                   0\n",
       "1_19_19                   40.0                   1"
      ]
     },
     "execution_count": 160,
     "metadata": {},
     "output_type": "execute_result"
    }
   ],
   "source": [
    "mean_hours_worked = morg_df_worked['hours_worked_per_week'].mean()\n",
    "def hard_worker(hours_worked):\n",
    "    if hours_worked > mean_hours_worked:\n",
    "        return 1\n",
    "    else:\n",
    "        return 0\n",
    "morg_df_worked['person_hard_worker'] = morg_df_worked['hours_worked_per_week'].apply(hard_worker)\n",
    "morg_df_worked[['hours_worked_per_week', 'person_hard_worker']].head(10)"
   ]
  },
  {
   "cell_type": "markdown",
   "metadata": {},
   "source": [
    "### Task 15:\n",
    "Use **apply** to calculate the max of earnings_per_week and hours_worked_per_week"
   ]
  },
  {
   "cell_type": "code",
   "execution_count": 161,
   "metadata": {},
   "outputs": [],
   "source": [
    "morg_df_worked['person_hard_worker'] = \\\n",
    "    morg_df_worked['hours_worked_per_week'].apply(lambda x: 1 if x > mean_hours_worked else 0)"
   ]
  },
  {
   "cell_type": "markdown",
   "metadata": {},
   "source": [
    "### Task 16:\n",
    "Create a function that takes a string and reverses it. Use apply to create a new column 'reversed' with employment_status reversed."
   ]
  },
  {
   "cell_type": "code",
   "execution_count": 162,
   "metadata": {},
   "outputs": [],
   "source": [
    "def reverse(string):\n",
    "    return string[::-1]\n"
   ]
  },
  {
   "cell_type": "markdown",
   "metadata": {},
   "source": [
    "## Merging"
   ]
  },
  {
   "cell_type": "code",
   "execution_count": 163,
   "metadata": {},
   "outputs": [],
   "source": [
    "students = pd.read_csv(\"data/students.csv\")\n",
    "grades = pd.read_csv(\"data/grades.csv\")"
   ]
  },
  {
   "cell_type": "code",
   "execution_count": 164,
   "metadata": {},
   "outputs": [
    {
     "data": {
      "text/html": [
       "<div>\n",
       "<style scoped>\n",
       "    .dataframe tbody tr th:only-of-type {\n",
       "        vertical-align: middle;\n",
       "    }\n",
       "\n",
       "    .dataframe tbody tr th {\n",
       "        vertical-align: top;\n",
       "    }\n",
       "\n",
       "    .dataframe thead th {\n",
       "        text-align: right;\n",
       "    }\n",
       "</style>\n",
       "<table border=\"1\" class=\"dataframe\">\n",
       "  <thead>\n",
       "    <tr style=\"text-align: right;\">\n",
       "      <th></th>\n",
       "      <th>First Name</th>\n",
       "      <th>Last Name</th>\n",
       "      <th>UCID</th>\n",
       "      <th>Email</th>\n",
       "      <th>Major</th>\n",
       "    </tr>\n",
       "  </thead>\n",
       "  <tbody>\n",
       "    <tr>\n",
       "      <th>0</th>\n",
       "      <td>Sam</td>\n",
       "      <td>Spade</td>\n",
       "      <td>1234</td>\n",
       "      <td>spade@uchicago.edu</td>\n",
       "      <td>Sociology</td>\n",
       "    </tr>\n",
       "    <tr>\n",
       "      <th>1</th>\n",
       "      <td>Nancy</td>\n",
       "      <td>Drew</td>\n",
       "      <td>2789</td>\n",
       "      <td>ndrew@uchicago.edu</td>\n",
       "      <td>Mathematics</td>\n",
       "    </tr>\n",
       "    <tr>\n",
       "      <th>2</th>\n",
       "      <td>Sherlock</td>\n",
       "      <td>Holmes</td>\n",
       "      <td>2222</td>\n",
       "      <td>bakerstreet@uchicago.edu</td>\n",
       "      <td>Psychology</td>\n",
       "    </tr>\n",
       "    <tr>\n",
       "      <th>3</th>\n",
       "      <td>V.I.</td>\n",
       "      <td>Warshawski</td>\n",
       "      <td>7654</td>\n",
       "      <td>viw@uchicago.edu</td>\n",
       "      <td>Mathematics</td>\n",
       "    </tr>\n",
       "  </tbody>\n",
       "</table>\n",
       "</div>"
      ],
      "text/plain": [
       "  First Name   Last Name  UCID                     Email        Major\n",
       "0        Sam       Spade  1234        spade@uchicago.edu    Sociology\n",
       "1      Nancy        Drew  2789        ndrew@uchicago.edu  Mathematics\n",
       "2   Sherlock      Holmes  2222  bakerstreet@uchicago.edu   Psychology\n",
       "3       V.I.  Warshawski  7654          viw@uchicago.edu  Mathematics"
      ]
     },
     "execution_count": 164,
     "metadata": {},
     "output_type": "execute_result"
    }
   ],
   "source": [
    "students"
   ]
  },
  {
   "cell_type": "code",
   "execution_count": 165,
   "metadata": {},
   "outputs": [
    {
     "data": {
      "text/html": [
       "<div>\n",
       "<style scoped>\n",
       "    .dataframe tbody tr th:only-of-type {\n",
       "        vertical-align: middle;\n",
       "    }\n",
       "\n",
       "    .dataframe tbody tr th {\n",
       "        vertical-align: top;\n",
       "    }\n",
       "\n",
       "    .dataframe thead th {\n",
       "        text-align: right;\n",
       "    }\n",
       "</style>\n",
       "<table border=\"1\" class=\"dataframe\">\n",
       "  <thead>\n",
       "    <tr style=\"text-align: right;\">\n",
       "      <th></th>\n",
       "      <th>Course</th>\n",
       "      <th>UCID</th>\n",
       "      <th>Score</th>\n",
       "      <th>Grade</th>\n",
       "    </tr>\n",
       "  </thead>\n",
       "  <tbody>\n",
       "    <tr>\n",
       "      <th>0</th>\n",
       "      <td>CS 121</td>\n",
       "      <td>2789</td>\n",
       "      <td>90</td>\n",
       "      <td>A-</td>\n",
       "    </tr>\n",
       "    <tr>\n",
       "      <th>1</th>\n",
       "      <td>CS 121</td>\n",
       "      <td>1234</td>\n",
       "      <td>65</td>\n",
       "      <td>C</td>\n",
       "    </tr>\n",
       "    <tr>\n",
       "      <th>2</th>\n",
       "      <td>CS 121</td>\n",
       "      <td>7654</td>\n",
       "      <td>85</td>\n",
       "      <td>B+</td>\n",
       "    </tr>\n",
       "    <tr>\n",
       "      <th>3</th>\n",
       "      <td>CS 121</td>\n",
       "      <td>9999</td>\n",
       "      <td>100</td>\n",
       "      <td>A+</td>\n",
       "    </tr>\n",
       "  </tbody>\n",
       "</table>\n",
       "</div>"
      ],
      "text/plain": [
       "   Course  UCID  Score Grade\n",
       "0  CS 121  2789     90    A-\n",
       "1  CS 121  1234     65     C\n",
       "2  CS 121  7654     85    B+\n",
       "3  CS 121  9999    100    A+"
      ]
     },
     "execution_count": 165,
     "metadata": {},
     "output_type": "execute_result"
    }
   ],
   "source": [
    "grades"
   ]
  },
  {
   "cell_type": "code",
   "execution_count": 166,
   "metadata": {},
   "outputs": [
    {
     "data": {
      "text/html": [
       "<div>\n",
       "<style scoped>\n",
       "    .dataframe tbody tr th:only-of-type {\n",
       "        vertical-align: middle;\n",
       "    }\n",
       "\n",
       "    .dataframe tbody tr th {\n",
       "        vertical-align: top;\n",
       "    }\n",
       "\n",
       "    .dataframe thead th {\n",
       "        text-align: right;\n",
       "    }\n",
       "</style>\n",
       "<table border=\"1\" class=\"dataframe\">\n",
       "  <thead>\n",
       "    <tr style=\"text-align: right;\">\n",
       "      <th></th>\n",
       "      <th>First Name</th>\n",
       "      <th>Last Name</th>\n",
       "      <th>UCID</th>\n",
       "      <th>Email</th>\n",
       "      <th>Major</th>\n",
       "      <th>Course</th>\n",
       "      <th>Score</th>\n",
       "      <th>Grade</th>\n",
       "    </tr>\n",
       "  </thead>\n",
       "  <tbody>\n",
       "    <tr>\n",
       "      <th>0</th>\n",
       "      <td>Sam</td>\n",
       "      <td>Spade</td>\n",
       "      <td>1234</td>\n",
       "      <td>spade@uchicago.edu</td>\n",
       "      <td>Sociology</td>\n",
       "      <td>CS 121</td>\n",
       "      <td>65</td>\n",
       "      <td>C</td>\n",
       "    </tr>\n",
       "    <tr>\n",
       "      <th>1</th>\n",
       "      <td>Nancy</td>\n",
       "      <td>Drew</td>\n",
       "      <td>2789</td>\n",
       "      <td>ndrew@uchicago.edu</td>\n",
       "      <td>Mathematics</td>\n",
       "      <td>CS 121</td>\n",
       "      <td>90</td>\n",
       "      <td>A-</td>\n",
       "    </tr>\n",
       "    <tr>\n",
       "      <th>2</th>\n",
       "      <td>V.I.</td>\n",
       "      <td>Warshawski</td>\n",
       "      <td>7654</td>\n",
       "      <td>viw@uchicago.edu</td>\n",
       "      <td>Mathematics</td>\n",
       "      <td>CS 121</td>\n",
       "      <td>85</td>\n",
       "      <td>B+</td>\n",
       "    </tr>\n",
       "  </tbody>\n",
       "</table>\n",
       "</div>"
      ],
      "text/plain": [
       "  First Name   Last Name  UCID               Email        Major  Course  \\\n",
       "0        Sam       Spade  1234  spade@uchicago.edu    Sociology  CS 121   \n",
       "1      Nancy        Drew  2789  ndrew@uchicago.edu  Mathematics  CS 121   \n",
       "2       V.I.  Warshawski  7654    viw@uchicago.edu  Mathematics  CS 121   \n",
       "\n",
       "   Score Grade  \n",
       "0     65     C  \n",
       "1     90    A-  \n",
       "2     85    B+  "
      ]
     },
     "execution_count": 166,
     "metadata": {},
     "output_type": "execute_result"
    }
   ],
   "source": [
    "pd.merge(students, grades, on=\"UCID\", how=\"inner\")"
   ]
  },
  {
   "cell_type": "markdown",
   "metadata": {},
   "source": [
    "Notice that the columns from the first argument (students) are followed by the corresponding columns from the second argument (grades) minus the UCID and that each row contains information for the same UCID. Sherlock Holmes does not appear in the result, because there is no row with his UCID (2222) in the grades `` dataframe.  Also, notice that UCID 9999, which appears in the ``grades dataframe, does not appear in the result, because it has no mate in the students dataframe.\n",
    "\n",
    "### Task 17 \n",
    "Include Sherlock, dont include UCID 9999"
   ]
  },
  {
   "cell_type": "code",
   "execution_count": 167,
   "metadata": {},
   "outputs": [
    {
     "data": {
      "text/html": [
       "<div>\n",
       "<style scoped>\n",
       "    .dataframe tbody tr th:only-of-type {\n",
       "        vertical-align: middle;\n",
       "    }\n",
       "\n",
       "    .dataframe tbody tr th {\n",
       "        vertical-align: top;\n",
       "    }\n",
       "\n",
       "    .dataframe thead th {\n",
       "        text-align: right;\n",
       "    }\n",
       "</style>\n",
       "<table border=\"1\" class=\"dataframe\">\n",
       "  <thead>\n",
       "    <tr style=\"text-align: right;\">\n",
       "      <th></th>\n",
       "      <th>First Name</th>\n",
       "      <th>Last Name</th>\n",
       "      <th>UCID</th>\n",
       "      <th>Email</th>\n",
       "      <th>Major</th>\n",
       "      <th>Course</th>\n",
       "      <th>Score</th>\n",
       "      <th>Grade</th>\n",
       "    </tr>\n",
       "  </thead>\n",
       "  <tbody>\n",
       "    <tr>\n",
       "      <th>0</th>\n",
       "      <td>Sam</td>\n",
       "      <td>Spade</td>\n",
       "      <td>1234</td>\n",
       "      <td>spade@uchicago.edu</td>\n",
       "      <td>Sociology</td>\n",
       "      <td>CS 121</td>\n",
       "      <td>65.0</td>\n",
       "      <td>C</td>\n",
       "    </tr>\n",
       "    <tr>\n",
       "      <th>1</th>\n",
       "      <td>Nancy</td>\n",
       "      <td>Drew</td>\n",
       "      <td>2789</td>\n",
       "      <td>ndrew@uchicago.edu</td>\n",
       "      <td>Mathematics</td>\n",
       "      <td>CS 121</td>\n",
       "      <td>90.0</td>\n",
       "      <td>A-</td>\n",
       "    </tr>\n",
       "    <tr>\n",
       "      <th>2</th>\n",
       "      <td>Sherlock</td>\n",
       "      <td>Holmes</td>\n",
       "      <td>2222</td>\n",
       "      <td>bakerstreet@uchicago.edu</td>\n",
       "      <td>Psychology</td>\n",
       "      <td>NaN</td>\n",
       "      <td>NaN</td>\n",
       "      <td>NaN</td>\n",
       "    </tr>\n",
       "    <tr>\n",
       "      <th>3</th>\n",
       "      <td>V.I.</td>\n",
       "      <td>Warshawski</td>\n",
       "      <td>7654</td>\n",
       "      <td>viw@uchicago.edu</td>\n",
       "      <td>Mathematics</td>\n",
       "      <td>CS 121</td>\n",
       "      <td>85.0</td>\n",
       "      <td>B+</td>\n",
       "    </tr>\n",
       "  </tbody>\n",
       "</table>\n",
       "</div>"
      ],
      "text/plain": [
       "  First Name   Last Name  UCID                     Email        Major  Course  \\\n",
       "0        Sam       Spade  1234        spade@uchicago.edu    Sociology  CS 121   \n",
       "1      Nancy        Drew  2789        ndrew@uchicago.edu  Mathematics  CS 121   \n",
       "2   Sherlock      Holmes  2222  bakerstreet@uchicago.edu   Psychology     NaN   \n",
       "3       V.I.  Warshawski  7654          viw@uchicago.edu  Mathematics  CS 121   \n",
       "\n",
       "   Score Grade  \n",
       "0   65.0     C  \n",
       "1   90.0    A-  \n",
       "2    NaN   NaN  \n",
       "3   85.0    B+  "
      ]
     },
     "execution_count": 167,
     "metadata": {},
     "output_type": "execute_result"
    }
   ],
   "source": [
    "pd.merge(students, grades, on=\"UCID\", how=\"left\")"
   ]
  },
  {
   "cell_type": "markdown",
   "metadata": {},
   "source": [
    "### Task 18\n",
    "Include UCID 9999, dont include Sherlock"
   ]
  },
  {
   "cell_type": "code",
   "execution_count": 168,
   "metadata": {},
   "outputs": [
    {
     "data": {
      "text/html": [
       "<div>\n",
       "<style scoped>\n",
       "    .dataframe tbody tr th:only-of-type {\n",
       "        vertical-align: middle;\n",
       "    }\n",
       "\n",
       "    .dataframe tbody tr th {\n",
       "        vertical-align: top;\n",
       "    }\n",
       "\n",
       "    .dataframe thead th {\n",
       "        text-align: right;\n",
       "    }\n",
       "</style>\n",
       "<table border=\"1\" class=\"dataframe\">\n",
       "  <thead>\n",
       "    <tr style=\"text-align: right;\">\n",
       "      <th></th>\n",
       "      <th>First Name</th>\n",
       "      <th>Last Name</th>\n",
       "      <th>UCID</th>\n",
       "      <th>Email</th>\n",
       "      <th>Major</th>\n",
       "      <th>Course</th>\n",
       "      <th>Score</th>\n",
       "      <th>Grade</th>\n",
       "    </tr>\n",
       "  </thead>\n",
       "  <tbody>\n",
       "    <tr>\n",
       "      <th>0</th>\n",
       "      <td>Sam</td>\n",
       "      <td>Spade</td>\n",
       "      <td>1234</td>\n",
       "      <td>spade@uchicago.edu</td>\n",
       "      <td>Sociology</td>\n",
       "      <td>CS 121</td>\n",
       "      <td>65</td>\n",
       "      <td>C</td>\n",
       "    </tr>\n",
       "    <tr>\n",
       "      <th>1</th>\n",
       "      <td>Nancy</td>\n",
       "      <td>Drew</td>\n",
       "      <td>2789</td>\n",
       "      <td>ndrew@uchicago.edu</td>\n",
       "      <td>Mathematics</td>\n",
       "      <td>CS 121</td>\n",
       "      <td>90</td>\n",
       "      <td>A-</td>\n",
       "    </tr>\n",
       "    <tr>\n",
       "      <th>2</th>\n",
       "      <td>V.I.</td>\n",
       "      <td>Warshawski</td>\n",
       "      <td>7654</td>\n",
       "      <td>viw@uchicago.edu</td>\n",
       "      <td>Mathematics</td>\n",
       "      <td>CS 121</td>\n",
       "      <td>85</td>\n",
       "      <td>B+</td>\n",
       "    </tr>\n",
       "    <tr>\n",
       "      <th>3</th>\n",
       "      <td>NaN</td>\n",
       "      <td>NaN</td>\n",
       "      <td>9999</td>\n",
       "      <td>NaN</td>\n",
       "      <td>NaN</td>\n",
       "      <td>CS 121</td>\n",
       "      <td>100</td>\n",
       "      <td>A+</td>\n",
       "    </tr>\n",
       "  </tbody>\n",
       "</table>\n",
       "</div>"
      ],
      "text/plain": [
       "  First Name   Last Name  UCID               Email        Major  Course  \\\n",
       "0        Sam       Spade  1234  spade@uchicago.edu    Sociology  CS 121   \n",
       "1      Nancy        Drew  2789  ndrew@uchicago.edu  Mathematics  CS 121   \n",
       "2       V.I.  Warshawski  7654    viw@uchicago.edu  Mathematics  CS 121   \n",
       "3        NaN         NaN  9999                 NaN          NaN  CS 121   \n",
       "\n",
       "   Score Grade  \n",
       "0     65     C  \n",
       "1     90    A-  \n",
       "2     85    B+  \n",
       "3    100    A+  "
      ]
     },
     "execution_count": 168,
     "metadata": {},
     "output_type": "execute_result"
    }
   ],
   "source": [
    "pd.merge(students, grades, on=\"UCID\", how=\"right\")"
   ]
  },
  {
   "cell_type": "markdown",
   "metadata": {},
   "source": [
    "### Task 19\n",
    "Include all"
   ]
  },
  {
   "cell_type": "code",
   "execution_count": 169,
   "metadata": {},
   "outputs": [
    {
     "data": {
      "text/html": [
       "<div>\n",
       "<style scoped>\n",
       "    .dataframe tbody tr th:only-of-type {\n",
       "        vertical-align: middle;\n",
       "    }\n",
       "\n",
       "    .dataframe tbody tr th {\n",
       "        vertical-align: top;\n",
       "    }\n",
       "\n",
       "    .dataframe thead th {\n",
       "        text-align: right;\n",
       "    }\n",
       "</style>\n",
       "<table border=\"1\" class=\"dataframe\">\n",
       "  <thead>\n",
       "    <tr style=\"text-align: right;\">\n",
       "      <th></th>\n",
       "      <th>First Name</th>\n",
       "      <th>Last Name</th>\n",
       "      <th>UCID</th>\n",
       "      <th>Email</th>\n",
       "      <th>Major</th>\n",
       "      <th>Course</th>\n",
       "      <th>Score</th>\n",
       "      <th>Grade</th>\n",
       "    </tr>\n",
       "  </thead>\n",
       "  <tbody>\n",
       "    <tr>\n",
       "      <th>0</th>\n",
       "      <td>Sam</td>\n",
       "      <td>Spade</td>\n",
       "      <td>1234</td>\n",
       "      <td>spade@uchicago.edu</td>\n",
       "      <td>Sociology</td>\n",
       "      <td>CS 121</td>\n",
       "      <td>65.0</td>\n",
       "      <td>C</td>\n",
       "    </tr>\n",
       "    <tr>\n",
       "      <th>1</th>\n",
       "      <td>Nancy</td>\n",
       "      <td>Drew</td>\n",
       "      <td>2789</td>\n",
       "      <td>ndrew@uchicago.edu</td>\n",
       "      <td>Mathematics</td>\n",
       "      <td>CS 121</td>\n",
       "      <td>90.0</td>\n",
       "      <td>A-</td>\n",
       "    </tr>\n",
       "    <tr>\n",
       "      <th>2</th>\n",
       "      <td>Sherlock</td>\n",
       "      <td>Holmes</td>\n",
       "      <td>2222</td>\n",
       "      <td>bakerstreet@uchicago.edu</td>\n",
       "      <td>Psychology</td>\n",
       "      <td>NaN</td>\n",
       "      <td>NaN</td>\n",
       "      <td>NaN</td>\n",
       "    </tr>\n",
       "    <tr>\n",
       "      <th>3</th>\n",
       "      <td>V.I.</td>\n",
       "      <td>Warshawski</td>\n",
       "      <td>7654</td>\n",
       "      <td>viw@uchicago.edu</td>\n",
       "      <td>Mathematics</td>\n",
       "      <td>CS 121</td>\n",
       "      <td>85.0</td>\n",
       "      <td>B+</td>\n",
       "    </tr>\n",
       "    <tr>\n",
       "      <th>4</th>\n",
       "      <td>NaN</td>\n",
       "      <td>NaN</td>\n",
       "      <td>9999</td>\n",
       "      <td>NaN</td>\n",
       "      <td>NaN</td>\n",
       "      <td>CS 121</td>\n",
       "      <td>100.0</td>\n",
       "      <td>A+</td>\n",
       "    </tr>\n",
       "  </tbody>\n",
       "</table>\n",
       "</div>"
      ],
      "text/plain": [
       "  First Name   Last Name  UCID                     Email        Major  Course  \\\n",
       "0        Sam       Spade  1234        spade@uchicago.edu    Sociology  CS 121   \n",
       "1      Nancy        Drew  2789        ndrew@uchicago.edu  Mathematics  CS 121   \n",
       "2   Sherlock      Holmes  2222  bakerstreet@uchicago.edu   Psychology     NaN   \n",
       "3       V.I.  Warshawski  7654          viw@uchicago.edu  Mathematics  CS 121   \n",
       "4        NaN         NaN  9999                       NaN          NaN  CS 121   \n",
       "\n",
       "   Score Grade  \n",
       "0   65.0     C  \n",
       "1   90.0    A-  \n",
       "2    NaN   NaN  \n",
       "3   85.0    B+  \n",
       "4  100.0    A+  "
      ]
     },
     "execution_count": 169,
     "metadata": {},
     "output_type": "execute_result"
    }
   ],
   "source": [
    "pd.merge(students, grades, on=\"UCID\", how=\"outer\")"
   ]
  },
  {
   "cell_type": "code",
   "execution_count": null,
   "metadata": {},
   "outputs": [],
   "source": []
  }
 ],
 "metadata": {
  "kernelspec": {
   "display_name": "Python 3",
   "language": "python",
   "name": "python3"
  },
  "language_info": {
   "codemirror_mode": {
    "name": "ipython",
    "version": 3
   },
   "file_extension": ".py",
   "mimetype": "text/x-python",
   "name": "python",
   "nbconvert_exporter": "python",
   "pygments_lexer": "ipython3",
   "version": "3.6.7"
  }
 },
 "nbformat": 4,
 "nbformat_minor": 2
}
