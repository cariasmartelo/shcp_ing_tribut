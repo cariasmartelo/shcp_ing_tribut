{
 "cells": [
  {
   "cell_type": "markdown",
   "metadata": {},
   "source": [
    "# Intro a Python. Sesion II:\n",
    "- Funciones\n"
   ]
  },
  {
   "cell_type": "markdown",
   "metadata": {},
   "source": [
    "## Functions"
   ]
  },
  {
   "cell_type": "code",
   "execution_count": 4,
   "metadata": {},
   "outputs": [],
   "source": [
    "def multiply_by_two(x):\n",
    "    '''\n",
    "    Funciton to multiply a value by 2.\n",
    "    Inputs:\n",
    "        x: Int  o float\n",
    "    Output:\n",
    "        Int  o float\n",
    "    '''\n",
    "    x_doubled = x * 2\n",
    "    return x_doubled"
   ]
  },
  {
   "cell_type": "code",
   "execution_count": 2,
   "metadata": {},
   "outputs": [
    {
     "data": {
      "text/plain": [
       "20"
      ]
     },
     "execution_count": 2,
     "metadata": {},
     "output_type": "execute_result"
    }
   ],
   "source": [
    "multiply_by_two(10)"
   ]
  },
  {
   "cell_type": "code",
   "execution_count": 3,
   "metadata": {},
   "outputs": [
    {
     "data": {
      "text/plain": [
       "30"
      ]
     },
     "execution_count": 3,
     "metadata": {},
     "output_type": "execute_result"
    }
   ],
   "source": [
    "multiply_by_two(15)"
   ]
  },
  {
   "cell_type": "code",
   "execution_count": 5,
   "metadata": {},
   "outputs": [],
   "source": [
    "def multiply_odds_by_2_evens_by_3(list_of_num):\n",
    "    '''\n",
    "    This function will multiply each odd number in the \n",
    "    list by 2 and every even number by 1/2\n",
    "    Inputs:\n",
    "        list_of_num: lst\n",
    "    Output:\n",
    "        lst\n",
    "    '''\n",
    "    rv = []\n",
    "    for number in list_of_num:\n",
    "        if number % 2 == 1: #Indicates that number is odd\n",
    "            rv.append(number * 2)\n",
    "        else:\n",
    "            rv.append(number * 1/2)\n",
    "    return rv"
   ]
  },
  {
   "cell_type": "code",
   "execution_count": 6,
   "metadata": {},
   "outputs": [
    {
     "data": {
      "text/plain": [
       "[2, 1.0, 6, 2.0, 10, 3.0, 14, 4.0, 18, 5.0]"
      ]
     },
     "execution_count": 6,
     "metadata": {},
     "output_type": "execute_result"
    }
   ],
   "source": [
    "list1 = [1, 2, 3, 4, 5, 6, 7, 8, 9, 10]\n",
    "multiply_odds_by_2_evens_by_3(list1)"
   ]
  },
  {
   "cell_type": "markdown",
   "metadata": {},
   "source": [
    "Now lets do the same with list comprehension. First only add 2, then conditional on even or odd."
   ]
  },
  {
   "cell_type": "code",
   "execution_count": null,
   "metadata": {},
   "outputs": [],
   "source": [
    "[x + 2 for x in list1] #Only multiply by 2"
   ]
  },
  {
   "cell_type": "code",
   "execution_count": null,
   "metadata": {},
   "outputs": [],
   "source": [
    "[x * 2 if x%2 == 1 else x * 1/2 for x in list1]\n",
    "#Same as function multiply_odds_by_2_evens_by_3"
   ]
  },
  {
   "cell_type": "markdown",
   "metadata": {},
   "source": [
    "Now, I only want to group numbers into odds and evens. Function that returns a dictionary that maps 'odds' to list of odds and 'evens' to list of evens."
   ]
  },
  {
   "cell_type": "code",
   "execution_count": 7,
   "metadata": {},
   "outputs": [],
   "source": [
    "def classify_odds_even(list_of_num):\n",
    "    '''\n",
    "    Funciton to classify numbers in a list as odds or even.\n",
    "    Inputs:\n",
    "        list_of_num: lst\n",
    "    Outpus:\n",
    "        Dict\n",
    "    '''\n",
    "    classification = {\"odds\": [],\n",
    "                      \"evens\": []}  #Create dict with empty lists\n",
    "    for number in list_of_num:\n",
    "        if number % 2 == 0:\n",
    "            classification['evens'].append(number)\n",
    "        else:\n",
    "            classification['odds'].append(number)\n",
    "    \n",
    "    return classification"
   ]
  },
  {
   "cell_type": "code",
   "execution_count": 8,
   "metadata": {},
   "outputs": [
    {
     "data": {
      "text/plain": [
       "{'odds': [1, 3, 5, 7, 9], 'evens': [2, 4, 6, 8, 10]}"
      ]
     },
     "execution_count": 8,
     "metadata": {},
     "output_type": "execute_result"
    }
   ],
   "source": [
    "classify_odds_even(list1)"
   ]
  },
  {
   "cell_type": "code",
   "execution_count": null,
   "metadata": {},
   "outputs": [],
   "source": [
    "list2 = [2, 4, 6, 8, 10, 12, 14, 16]\n",
    "classify_odds_even(list2)"
   ]
  },
  {
   "cell_type": "markdown",
   "metadata": {},
   "source": [
    "Multiple return statements"
   ]
  },
  {
   "cell_type": "code",
   "execution_count": 18,
   "metadata": {},
   "outputs": [],
   "source": [
    "def is_prime(x):\n",
    "    '''\n",
    "    Returns True if x is prime\n",
    "    Inputs:\n",
    "        x: Int\n",
    "    Output:\n",
    "        bool\n",
    "    '''\n",
    "    for n in range(2, x):\n",
    "        if x % n == 0:\n",
    "            return False\n",
    "    return True"
   ]
  },
  {
   "cell_type": "code",
   "execution_count": 26,
   "metadata": {},
   "outputs": [
    {
     "data": {
      "text/plain": [
       "True"
      ]
     },
     "execution_count": 26,
     "metadata": {},
     "output_type": "execute_result"
    }
   ],
   "source": [
    "is_prime(2)"
   ]
  },
  {
   "cell_type": "code",
   "execution_count": 11,
   "metadata": {},
   "outputs": [
    {
     "data": {
      "text/plain": [
       "True"
      ]
     },
     "execution_count": 11,
     "metadata": {},
     "output_type": "execute_result"
    }
   ],
   "source": [
    "is_prime(11)"
   ]
  },
  {
   "cell_type": "code",
   "execution_count": 24,
   "metadata": {},
   "outputs": [],
   "source": [
    "def convertir_a_dolares(monto, t_c=19):\n",
    "    '''\n",
    "    Convertir monto a dólares\n",
    "    inputs:\n",
    "        monto: int\n",
    "        t_c: int\n",
    "    Output:\n",
    "        float o int\n",
    "    '''\n",
    "    return monto * t_c"
   ]
  },
  {
   "cell_type": "code",
   "execution_count": 25,
   "metadata": {},
   "outputs": [
    {
     "data": {
      "text/plain": [
       "4000000"
      ]
     },
     "execution_count": 25,
     "metadata": {},
     "output_type": "execute_result"
    }
   ],
   "source": [
    "convertir_a_dolares(monto=2000, t_c=2000)"
   ]
  }
 ],
 "metadata": {
  "kernelspec": {
   "display_name": "Python 3",
   "language": "python",
   "name": "python3"
  },
  "language_info": {
   "codemirror_mode": {
    "name": "ipython",
    "version": 3
   },
   "file_extension": ".py",
   "mimetype": "text/x-python",
   "name": "python",
   "nbconvert_exporter": "python",
   "pygments_lexer": "ipython3",
   "version": "3.6.7"
  }
 },
 "nbformat": 4,
 "nbformat_minor": 2
}
