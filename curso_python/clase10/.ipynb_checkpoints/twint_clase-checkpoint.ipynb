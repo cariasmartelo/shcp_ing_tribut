{
 "cells": [
  {
   "cell_type": "code",
   "execution_count": 1,
   "metadata": {},
   "outputs": [
    {
     "ename": "ModuleNotFoundError",
     "evalue": "No module named 'twint'",
     "output_type": "error",
     "traceback": [
      "\u001b[0;31m---------------------------------------------------------------------------\u001b[0m",
      "\u001b[0;31mModuleNotFoundError\u001b[0m                       Traceback (most recent call last)",
      "\u001b[0;32m<ipython-input-1-c3d7773564b2>\u001b[0m in \u001b[0;36m<module>\u001b[0;34m\u001b[0m\n\u001b[1;32m      1\u001b[0m \u001b[0;31m#descargar los tweets publicados por la cuenta de hacienda en Julio\u001b[0m\u001b[0;34m\u001b[0m\u001b[0;34m\u001b[0m\u001b[0;34m\u001b[0m\u001b[0m\n\u001b[0;32m----> 2\u001b[0;31m \u001b[0;32mimport\u001b[0m \u001b[0mtwint\u001b[0m\u001b[0;34m\u001b[0m\u001b[0;34m\u001b[0m\u001b[0m\n\u001b[0m\u001b[1;32m      3\u001b[0m \u001b[0mc\u001b[0m \u001b[0;34m=\u001b[0m \u001b[0mtwint\u001b[0m\u001b[0;34m.\u001b[0m\u001b[0mConfig\u001b[0m\u001b[0;34m(\u001b[0m\u001b[0;34m)\u001b[0m\u001b[0;34m\u001b[0m\u001b[0;34m\u001b[0m\u001b[0m\n\u001b[1;32m      4\u001b[0m \u001b[0mc\u001b[0m\u001b[0;34m.\u001b[0m\u001b[0mUsername\u001b[0m \u001b[0;34m=\u001b[0m \u001b[0;34m\"@Hacienda_Mexico\"\u001b[0m\u001b[0;34m\u001b[0m\u001b[0;34m\u001b[0m\u001b[0m\n\u001b[1;32m      5\u001b[0m \u001b[0mc\u001b[0m\u001b[0;34m.\u001b[0m\u001b[0mSince\u001b[0m \u001b[0;34m=\u001b[0m \u001b[0;34m\"2019-7-1\"\u001b[0m\u001b[0;34m\u001b[0m\u001b[0;34m\u001b[0m\u001b[0m\n",
      "\u001b[0;31mModuleNotFoundError\u001b[0m: No module named 'twint'"
     ]
    }
   ],
   "source": [
    "#descargar los tweets publicados por la cuenta de hacienda en Julio\n",
    "import twint\n",
    "c = twint.Config()\n",
    "c.Username = \"@Hacienda_Mexico\"\n",
    "c.Since = \"2019-7-1\"\n",
    "c.Until = \"2019-8-1\"\n",
    "c.Format = \"{id} | {link} | {username} | {date} | {time} | {likes} | {retweets} | {replies} | {tweet}\"\n",
    "c.Output = \"hacienda.csv\"\n",
    "twint.run.Search(c)\n"
   ]
  },
  {
   "cell_type": "code",
   "execution_count": null,
   "metadata": {},
   "outputs": [],
   "source": [
    "#descargar los tweets publicados por la cuenta de hacienda que mencionan las palabras economía o gatos\n",
    "import twint\n",
    "c = twint.Config()\n",
    "c.Username = \"@Hacienda_Mexico\"\n",
    "c.Search = \"economía OR gatos\"\n",
    "c.Format = \"{id} | {link} | {username} | {date} | {time} | {likes} | {retweets} | {replies} | {tweet}\"\n",
    "c.Output = \"hacienda_eco_o_gatos.csv\"\n",
    "twint.run.Search(c)\n"
   ]
  },
  {
   "cell_type": "code",
   "execution_count": null,
   "metadata": {},
   "outputs": [],
   "source": [
    "#desvargar los tweets publicados por la cuenta de hacienda que mencionan las palabras economía y gatos\n",
    "import twint\n",
    "c = twint.Config()\n",
    "c.Username = \"@Hacienda_Mexico\"\n",
    "c.Search = \"economía & gatos\"\n",
    "c.Since = \"2019-1-1\"\n",
    "c.Until = \"2019-8-1\"\n",
    "c.Format = \"{id} | {link} | {username} | {date} | {time} | {likes} | {retweets} | {replies} | {tweet}\"\n",
    "c.Output = \"hacienda_eco_y_gatos.csv\"\n",
    "twint.run.Search(c)\n",
    "\n",
    "\n"
   ]
  },
  {
   "cell_type": "code",
   "execution_count": null,
   "metadata": {},
   "outputs": [],
   "source": [
    "#desvargar los tweets publicados por la cuenta de hacienda que mencionan las palabras economía y la\n",
    "import twint\n",
    "c = twint.Config()\n",
    "c.Username = \"@Hacienda_Mexico\"\n",
    "c.Search = \"economía & la\"\n",
    "c.Since = \"2019-1-1\"\n",
    "c.Until = \"2019-8-1\"\n",
    "c.Format = \"{id} | {link} | {username} | {date} | {time} | {likes} | {retweets} | {replies} | {tweet}\"\n",
    "c.Output = \"hacienda_eco_la.csv\"\n",
    "twint.run.Search(c)"
   ]
  },
  {
   "cell_type": "code",
   "execution_count": null,
   "metadata": {},
   "outputs": [],
   "source": [
    "#desvargar los tweets publicados por El Universal entre\n",
    "import twint\n",
    "c = twint.Config()\n",
    "c.Username = \"Hacienda_Mexico\"\n",
    "c.User_full = True\n",
    "#c.Format = \"{id} | {name} | {username} | {join_date} | {tweets} | {following} | {followers} | {likes} | {verified}\"\n",
    "c.Output = \"hacienda_followers.csv\"\n",
    "twint.run.Following(c)"
   ]
  },
  {
   "cell_type": "code",
   "execution_count": null,
   "metadata": {},
   "outputs": [],
   "source": []
  }
 ],
 "metadata": {
  "kernelspec": {
   "display_name": "Python 3",
   "language": "python",
   "name": "python3"
  },
  "language_info": {
   "codemirror_mode": {
    "name": "ipython",
    "version": 3
   },
   "file_extension": ".py",
   "mimetype": "text/x-python",
   "name": "python",
   "nbconvert_exporter": "python",
   "pygments_lexer": "ipython3",
   "version": "3.6.7"
  }
 },
 "nbformat": 4,
 "nbformat_minor": 2
}
