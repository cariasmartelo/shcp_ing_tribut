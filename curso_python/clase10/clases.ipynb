{
 "cells": [
  {
   "cell_type": "markdown",
   "metadata": {},
   "source": [
    "    # TA3 Classes\n",
    "   "
   ]
  },
  {
   "cell_type": "code",
   "execution_count": 40,
   "metadata": {},
   "outputs": [],
   "source": [
    "class Runner:\n",
    "    '''\n",
    "    Class to represent Runners\n",
    "    '''\n",
    "    def __init__(self, runner_id, name, height):\n",
    "        self.runner_id = runner_id\n",
    "        self.name = name\n",
    "        self.height = height\n",
    "        self.race = None\n",
    "        self.runtime = None\n",
    "    \n",
    "    def run(self, runtime):\n",
    "        '''\n",
    "        Method by which a runner runs.\n",
    "        Input:\n",
    "            runtime: Int\n",
    "        '''\n",
    "        self.runtime = runtime\n",
    "    \n",
    "    def __repr__(self):\n",
    "        return self.name\n",
    "\n",
    "class Race:\n",
    "    '''\n",
    "    Class to represent a race\n",
    "    '''\n",
    "    def __init__(self, race_id, length):\n",
    "        '''\n",
    "        Method to initialize a race\n",
    "        '''\n",
    "        self.race_id = race_id\n",
    "        self.length = length\n",
    "        self.runners = None\n",
    "    \n",
    "    def add_runners(self, runners):\n",
    "        '''\n",
    "        Method to add runners to a race.\n",
    "        Inputs:\n",
    "            [runner]\n",
    "        '''\n",
    "        self.runners = runners\n",
    "        for runner in runners:\n",
    "            runner.race = self\n",
    "\n",
    "    def runners_run(self, runtimes):\n",
    "        '''\n",
    "        Method to all run the race.\n",
    "        Inputs:\n",
    "            runtimes: list of (id, runtime) Example:[(0, 20), (1, 30), (2, 15.4)]\n",
    "        '''\n",
    "        for runtime in runtimes:\n",
    "            runner_id, time = runtime\n",
    "            for runner in self.runners:\n",
    "                if runner.runner_id == runner_id:\n",
    "                    runner.run(time)\n",
    "    \n",
    "    def get_scoreboard(self):\n",
    "        '''\n",
    "        Get the scoreboard of a race that was run.\n",
    "        '''\n",
    "        scores = [(runner.name, runner.runtime) for runner in self.runners]\n",
    "        return scores\n",
    "    \n",
    "    def __repr__(self):\n",
    "        return self.race_id"
   ]
  },
  {
   "cell_type": "code",
   "execution_count": 56,
   "metadata": {},
   "outputs": [],
   "source": [
    "chicago_10k = Race('CHIC10k', 10)"
   ]
  },
  {
   "cell_type": "code",
   "execution_count": 57,
   "metadata": {},
   "outputs": [
    {
     "data": {
      "text/plain": [
       "10"
      ]
     },
     "execution_count": 57,
     "metadata": {},
     "output_type": "execute_result"
    }
   ],
   "source": [
    "chicago_10k.length"
   ]
  },
  {
   "cell_type": "code",
   "execution_count": 58,
   "metadata": {},
   "outputs": [
    {
     "data": {
      "text/plain": [
       "'CHIC10k'"
      ]
     },
     "execution_count": 58,
     "metadata": {},
     "output_type": "execute_result"
    }
   ],
   "source": [
    "chicago_10k.race_id"
   ]
  },
  {
   "cell_type": "code",
   "execution_count": 59,
   "metadata": {},
   "outputs": [
    {
     "name": "stdout",
     "output_type": "stream",
     "text": [
      "None\n"
     ]
    }
   ],
   "source": [
    "print(chicago_10k.runners)"
   ]
  },
  {
   "cell_type": "code",
   "execution_count": 60,
   "metadata": {},
   "outputs": [],
   "source": [
    "runner_1 = Runner(1, 'Victoria', 180)\n",
    "runner_2 = Runner(2, 'Frida', 175)\n",
    "runner_3 = Runner(3, 'Guada', 177)"
   ]
  },
  {
   "cell_type": "code",
   "execution_count": 61,
   "metadata": {},
   "outputs": [
    {
     "data": {
      "text/plain": [
       "'Victoria'"
      ]
     },
     "execution_count": 61,
     "metadata": {},
     "output_type": "execute_result"
    }
   ],
   "source": [
    "runner_1.name"
   ]
  },
  {
   "cell_type": "code",
   "execution_count": 62,
   "metadata": {},
   "outputs": [
    {
     "name": "stdout",
     "output_type": "stream",
     "text": [
      "None\n"
     ]
    }
   ],
   "source": [
    "print(runner_1.race)"
   ]
  },
  {
   "cell_type": "code",
   "execution_count": 63,
   "metadata": {},
   "outputs": [],
   "source": [
    "chicago_10k.add_runners([runner_1, runner_2, runner_3])"
   ]
  },
  {
   "cell_type": "code",
   "execution_count": 65,
   "metadata": {},
   "outputs": [
    {
     "data": {
      "text/plain": [
       "[Victoria, Frida, Guada]"
      ]
     },
     "execution_count": 65,
     "metadata": {},
     "output_type": "execute_result"
    }
   ],
   "source": [
    "chicago_10k.runners"
   ]
  },
  {
   "cell_type": "code",
   "execution_count": 67,
   "metadata": {},
   "outputs": [
    {
     "data": {
      "text/plain": [
       "CHIC10k"
      ]
     },
     "execution_count": 67,
     "metadata": {},
     "output_type": "execute_result"
    }
   ],
   "source": [
    "runner_1.race"
   ]
  },
  {
   "cell_type": "code",
   "execution_count": 69,
   "metadata": {},
   "outputs": [
    {
     "name": "stdout",
     "output_type": "stream",
     "text": [
      "None\n"
     ]
    }
   ],
   "source": [
    "print(runner_1.runtime)"
   ]
  },
  {
   "cell_type": "code",
   "execution_count": 70,
   "metadata": {},
   "outputs": [],
   "source": [
    "chicago_10k.runners_run([(1, 60), (2, 40), (3,48)])"
   ]
  },
  {
   "cell_type": "code",
   "execution_count": 71,
   "metadata": {},
   "outputs": [
    {
     "data": {
      "text/plain": [
       "60"
      ]
     },
     "execution_count": 71,
     "metadata": {},
     "output_type": "execute_result"
    }
   ],
   "source": [
    "runner_1.runtime"
   ]
  },
  {
   "cell_type": "code",
   "execution_count": 55,
   "metadata": {},
   "outputs": [
    {
     "data": {
      "text/plain": [
       "[('Victoria', 60), ('Frida', 40), ('Guada', 48)]"
      ]
     },
     "execution_count": 55,
     "metadata": {},
     "output_type": "execute_result"
    }
   ],
   "source": [
    "chicago_10k.get_scoreboard()"
   ]
  },
  {
   "cell_type": "code",
   "execution_count": null,
   "metadata": {},
   "outputs": [],
   "source": []
  }
 ],
 "metadata": {
  "kernelspec": {
   "display_name": "Python 3",
   "language": "python",
   "name": "python3"
  },
  "language_info": {
   "codemirror_mode": {
    "name": "ipython",
    "version": 3
   },
   "file_extension": ".py",
   "mimetype": "text/x-python",
   "name": "python",
   "nbconvert_exporter": "python",
   "pygments_lexer": "ipython3",
   "version": "3.6.7"
  }
 },
 "nbformat": 4,
 "nbformat_minor": 2
}
