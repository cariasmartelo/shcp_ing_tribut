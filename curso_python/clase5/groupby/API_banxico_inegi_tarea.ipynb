{
 "cells": [
  {
   "cell_type": "markdown",
   "metadata": {},
   "source": [
    "# Tarea API BANXICO\n",
    "- Revisamos API Banxico of:\n",
    "- groupby"
   ]
  },
  {
   "cell_type": "code",
   "execution_count": 1,
   "metadata": {},
   "outputs": [],
   "source": [
    "import pandas as pd\n",
    "import datetime\n",
    "import requests"
   ]
  },
  {
   "cell_type": "markdown",
   "metadata": {},
   "source": [
    "# 1. Obten TOKEN de BANXICO\n",
    "Entra a https://www.banxico.org.mx/SieAPIRest/service/v1/ y obten token"
   ]
  },
  {
   "cell_type": "code",
   "execution_count": null,
   "metadata": {},
   "outputs": [],
   "source": [
    "token = ''"
   ]
  },
  {
   "cell_type": "markdown",
   "metadata": {},
   "source": [
    "# 2. Identifica series de interés:\n",
    "identifica la clave del tipo de cambio diario y de la base monetaria observada"
   ]
  },
  {
   "cell_type": "code",
   "execution_count": null,
   "metadata": {},
   "outputs": [],
   "source": [
    "clave_banxico = {\n",
    "    'tc_diario':\n",
    "    'base_monetaria':\n",
    "}"
   ]
  },
  {
   "cell_type": "markdown",
   "metadata": {},
   "source": [
    "# 3. Crea una función para descargar los datos\n",
    "En la función necesitas:\n",
    "- Obtener la clave del indicador que te interesa\n",
    "- Crear un header con tu token\n",
    "- hacer el request\n",
    "- obtener la lista de diccionarios\n",
    "- convertir a DataFrame\n",
    "- Guardar en CSV"
   ]
  },
  {
   "cell_type": "code",
   "execution_count": null,
   "metadata": {},
   "outputs": [],
   "source": [
    "def descargar_banxico(indicador, token):\n",
    "    '''\n",
    "    '''\n",
    "    # Escribe aqui tu función\n",
    "    clave_banxico = {\n",
    "    'tc_diario':\n",
    "    'base_monetaria':\n",
    "    }\n",
    "    url = \n",
    "    header = \n",
    "    r = requeste.get( , )\n",
    "    df = pd.DataFrame(r.json()....)\n",
    "    df.rename(columns={})\n",
    "    df.to_csv(, index=False)"
   ]
  },
  {
   "cell_type": "markdown",
   "metadata": {},
   "source": [
    "# 4. Crea una función que lea los CSV, convierta la fecha a objeto datetime, los valores a números y el índice a la fecha. "
   ]
  },
  {
   "cell_type": "code",
   "execution_count": null,
   "metadata": {},
   "outputs": [],
   "source": [
    "def leer_csv_banxico(csv):\n",
    "    '''\n",
    "    '''\n",
    "    # Escribe aqui tu función\n",
    "    df = pd.read_csv()\n",
    "    ...\n",
    "    return df"
   ]
  },
  {
   "cell_type": "markdown",
   "metadata": {},
   "source": [
    "# 5. Carga el Tipo de Cambio y la Base Monetaria, y haz un merge entre ambos.\n",
    "usa pd.merge(df1, df2, left_index=, right+index=)"
   ]
  },
  {
   "cell_type": "code",
   "execution_count": null,
   "metadata": {},
   "outputs": [],
   "source": []
  },
  {
   "cell_type": "markdown",
   "metadata": {},
   "source": [
    "# 5. Crea un nuevo DF que tenga el tipo de cambio promedio y la base monetaria promedio por mes.\n",
    "Necesitas crear una columna mes"
   ]
  },
  {
   "cell_type": "code",
   "execution_count": null,
   "metadata": {},
   "outputs": [],
   "source": []
  },
  {
   "cell_type": "markdown",
   "metadata": {},
   "source": [
    "# 6. Crea un nuevo DF que sea igual el DF inicial en frecuencia mensual. \n",
    "Necesitas usar df.resample('MS').mean()"
   ]
  },
  {
   "cell_type": "code",
   "execution_count": null,
   "metadata": {},
   "outputs": [],
   "source": []
  },
  {
   "cell_type": "markdown",
   "metadata": {},
   "source": [
    "# 7. Descarga de INEGI el INPC. Crea una función similar a la que tenemos para el Banco de México.\n",
    "https://www.inegi.org.mx/servicios/api_indicadores.html\n",
    "token= 'b95e6c18-9de9-393d-e550-080d2a5e37fe'"
   ]
  },
  {
   "cell_type": "code",
   "execution_count": null,
   "metadata": {},
   "outputs": [],
   "source": [
    "def descargar_inegi(indicador, token):\n",
    "    '''\n",
    "    '''\n",
    "    # Escribe aqui tu función\n",
    "    clave_inegi = {\n",
    "    'tc_diario':\n",
    "    'base_monetaria':\n",
    "    }\n",
    "    url = \n",
    "    r = requeste.get( ,=)\n",
    "    df = pd.DataFrame(r.json()....)\n",
    "    df.rename(columns={})\n",
    "    df.to_csv(, index=False)"
   ]
  },
  {
   "cell_type": "markdown",
   "metadata": {},
   "source": [
    "# 8. Carga de el INPC. Crea una función similar a la que tenemos para el Banco de México.\n",
    "token= 'b95e6c18-9de9-393d-e550-080d2a5e37fe'"
   ]
  },
  {
   "cell_type": "code",
   "execution_count": null,
   "metadata": {},
   "outputs": [],
   "source": [
    "def leer_csv_inegi(csv):\n",
    "    '''\n",
    "    '''\n",
    "    # Escribe aqui tu función\n",
    "    df = pd.read_csv()\n",
    "    ...\n",
    "    return df"
   ]
  },
  {
   "cell_type": "markdown",
   "metadata": {},
   "source": [
    "# 9. Haz merge para tener un DF con tipo de cambio, base monetaria e INPC"
   ]
  },
  {
   "cell_type": "code",
   "execution_count": null,
   "metadata": {},
   "outputs": [],
   "source": []
  }
 ],
 "metadata": {
  "kernelspec": {
   "display_name": "Python 3",
   "language": "python",
   "name": "python3"
  },
  "language_info": {
   "codemirror_mode": {
    "name": "ipython",
    "version": 3
   },
   "file_extension": ".py",
   "mimetype": "text/x-python",
   "name": "python",
   "nbconvert_exporter": "python",
   "pygments_lexer": "ipython3",
   "version": "3.6.7"
  }
 },
 "nbformat": 4,
 "nbformat_minor": 2
}
